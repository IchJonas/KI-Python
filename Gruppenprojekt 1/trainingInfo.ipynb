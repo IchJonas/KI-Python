{
 "cells": [
  {
   "cell_type": "code",
   "execution_count": null,
   "metadata": {},
   "outputs": [],
   "source": [
    "# Bibliotheken\n",
    "\n",
    "# Pandas\n",
    "import pandas as pd \n",
    "\n",
    "# NumPy\n",
    "import numpy as np\n",
    "\n",
    "# sklearn\n",
    "from sklearn.model_selection import train_test_split\n",
    "from sklearn import tree \n",
    "\n",
    "import warnings\n",
    "warnings.simplefilter(\"default\")\n",
    "\n"
   ]
  },
  {
   "cell_type": "markdown",
   "metadata": {},
   "source": [
    "Abspeichern Daten Satz in einem panda Frame und Ausgabe Informationen"
   ]
  },
  {
   "cell_type": "code",
   "execution_count": 3,
   "metadata": {},
   "outputs": [
    {
     "name": "stdout",
     "output_type": "stream",
     "text": [
      "   ID                                               text  group\n",
      "0   0  'Hi,  I\\'ve noticed that if you only save a mo...      1\n",
      "1   1  '  Seems to be, barring evidence to the contra...      3\n",
      "2   2  '  >In article <1993Apr19.020359.26996@sq.sq.c...      2\n",
      "3   3  'I have a request for those who would like to ...      0\n",
      "4   4  'AW&ST  had a brief blurb on a Manned Lunar Ex...      2 \n",
      "\n",
      "Anzahl doppelter Zeilen: 89\n",
      "Anzahl null Zeilen: text     90\n",
      "group     0\n",
      "dtype: int64 \n",
      "\n",
      "<class 'pandas.core.frame.DataFrame'>\n",
      "Index: 3277 entries, 0 to 3369\n",
      "Data columns (total 2 columns):\n",
      " #   Column  Non-Null Count  Dtype \n",
      "---  ------  --------------  ----- \n",
      " 0   text    3277 non-null   object\n",
      " 1   group   3277 non-null   int64 \n",
      "dtypes: int64(1), object(1)\n",
      "memory usage: 76.8+ KB\n"
     ]
    }
   ],
   "source": [
    "data = pd.read_csv(\"20 newsgroups/20newsgroups.csv\", on_bad_lines='skip', sep=';')\n",
    "print(data.head(), \"\\n\")\n",
    "data = data.iloc[:,1:3]\n",
    "\n",
    "doppelte_zeilen = data.duplicated().sum()\n",
    "na_zeilen = data.isna().sum()\n",
    "data = data.dropna()\n",
    "data = data.drop_duplicates()\n",
    "print(\"Anzahl doppelter Zeilen:\", doppelte_zeilen)\n",
    "print(\"Anzahl null Zeilen:\", na_zeilen,\"\\n\")\n",
    "\n",
    "data.info()\n",
    "#Theoretisch möglich Datentypen anzugeben"
   ]
  },
  {
   "cell_type": "markdown",
   "metadata": {},
   "source": [
    "Ausgabe Gruppenverteilung"
   ]
  },
  {
   "cell_type": "code",
   "execution_count": 4,
   "metadata": {},
   "outputs": [
    {
     "name": "stdout",
     "output_type": "stream",
     "text": [
      "group\n",
      "2    951\n",
      "1    947\n",
      "0    776\n",
      "3    603\n",
      "Name: count, dtype: int64\n"
     ]
    }
   ],
   "source": [
    "class_counts = data['group'].value_counts()\n",
    "print(class_counts)"
   ]
  },
  {
   "cell_type": "markdown",
   "metadata": {},
   "source": [
    "Ausgabe Durchschnitts Textlänge"
   ]
  },
  {
   "cell_type": "code",
   "execution_count": 5,
   "metadata": {},
   "outputs": [
    {
     "name": "stdout",
     "output_type": "stream",
     "text": [
      "Durchschnittliche Textlänge: 1290.73 Zeichen\n"
     ]
    }
   ],
   "source": [
    "# Berechnung der Textlängen\n",
    "data['text_length'] = data['text'].apply(len)\n",
    "\n",
    "# Berechnung des Durchschnitts der Textlängen\n",
    "average_text_length = data['text_length'].mean()\n",
    "\n",
    "# Ausgabe des Durchschnitts\n",
    "print(f'Durchschnittliche Textlänge: {average_text_length:.2f} Zeichen')"
   ]
  },
  {
   "cell_type": "code",
   "execution_count": 6,
   "metadata": {},
   "outputs": [
    {
     "data": {
      "text/html": [
       "<div>\n",
       "<style scoped>\n",
       "    .dataframe tbody tr th:only-of-type {\n",
       "        vertical-align: middle;\n",
       "    }\n",
       "\n",
       "    .dataframe tbody tr th {\n",
       "        vertical-align: top;\n",
       "    }\n",
       "\n",
       "    .dataframe thead th {\n",
       "        text-align: right;\n",
       "    }\n",
       "</style>\n",
       "<table border=\"1\" class=\"dataframe\">\n",
       "  <thead>\n",
       "    <tr style=\"text-align: right;\">\n",
       "      <th></th>\n",
       "      <th>group</th>\n",
       "      <th>text_length</th>\n",
       "    </tr>\n",
       "  </thead>\n",
       "  <tbody>\n",
       "    <tr>\n",
       "      <th>count</th>\n",
       "      <td>3277.000000</td>\n",
       "      <td>3277.000000</td>\n",
       "    </tr>\n",
       "    <tr>\n",
       "      <th>mean</th>\n",
       "      <td>1.421422</td>\n",
       "      <td>1290.728105</td>\n",
       "    </tr>\n",
       "    <tr>\n",
       "      <th>std</th>\n",
       "      <td>1.042008</td>\n",
       "      <td>4035.460937</td>\n",
       "    </tr>\n",
       "    <tr>\n",
       "      <th>min</th>\n",
       "      <td>0.000000</td>\n",
       "      <td>1.000000</td>\n",
       "    </tr>\n",
       "    <tr>\n",
       "      <th>25%</th>\n",
       "      <td>1.000000</td>\n",
       "      <td>245.000000</td>\n",
       "    </tr>\n",
       "    <tr>\n",
       "      <th>50%</th>\n",
       "      <td>1.000000</td>\n",
       "      <td>492.000000</td>\n",
       "    </tr>\n",
       "    <tr>\n",
       "      <th>75%</th>\n",
       "      <td>2.000000</td>\n",
       "      <td>1027.000000</td>\n",
       "    </tr>\n",
       "    <tr>\n",
       "      <th>max</th>\n",
       "      <td>3.000000</td>\n",
       "      <td>61551.000000</td>\n",
       "    </tr>\n",
       "  </tbody>\n",
       "</table>\n",
       "</div>"
      ],
      "text/plain": [
       "             group   text_length\n",
       "count  3277.000000   3277.000000\n",
       "mean      1.421422   1290.728105\n",
       "std       1.042008   4035.460937\n",
       "min       0.000000      1.000000\n",
       "25%       1.000000    245.000000\n",
       "50%       1.000000    492.000000\n",
       "75%       2.000000   1027.000000\n",
       "max       3.000000  61551.000000"
      ]
     },
     "execution_count": 6,
     "metadata": {},
     "output_type": "execute_result"
    }
   ],
   "source": [
    "data.describe()"
   ]
  }
 ],
 "metadata": {
  "kernelspec": {
   "display_name": ".venv",
   "language": "python",
   "name": "python3"
  },
  "language_info": {
   "codemirror_mode": {
    "name": "ipython",
    "version": 3
   },
   "file_extension": ".py",
   "mimetype": "text/x-python",
   "name": "python",
   "nbconvert_exporter": "python",
   "pygments_lexer": "ipython3",
   "version": "3.12.3"
  }
 },
 "nbformat": 4,
 "nbformat_minor": 2
}
