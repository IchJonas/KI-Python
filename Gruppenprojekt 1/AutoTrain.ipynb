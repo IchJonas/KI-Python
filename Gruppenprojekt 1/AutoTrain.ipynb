{
 "cells": [
  {
   "cell_type": "code",
   "execution_count": 49,
   "metadata": {},
   "outputs": [],
   "source": [
    "import pandas as pd \n",
    "\n",
    "import numpy as np\n",
    "\n",
    "import matplotlib \n",
    "import matplotlib.pyplot as plt\n",
    "\n",
    "from sklearn.model_selection import train_test_split\n",
    "from sklearn.tree import DecisionTreeClassifier\n",
    "\n",
    "from sklearn.metrics import classification_report\n",
    "\n",
    "from sklearn.metrics import precision_score\n",
    "from sklearn.metrics import recall_score\n",
    "from sklearn.metrics import f1_score"
   ]
  },
  {
   "cell_type": "markdown",
   "metadata": {},
   "source": [
    "                                                                                                                    Klasse zum Training eines DecissionTreeClassifiers:                                                                                                                                        \n",
    "__init__ \n",
    "- Methode ist der Konstruktor der Klasse:\n",
    "- alle Parameter mit \"=\" sind nicht verpflichtend, also ist es nur path zur csv-Datei                                                                                                                                                                                                                               \n",
    "- ohne Angabe des Schlüsselwortes muss die Reihenfolge eingehalten werden, mit entsprechend nicht            \n",
    "                                                                                                                                                                                                     \n",
    "__data__:\n",
    "- Methode kann man nicht von außen aufruen, das liegt an den __ quasi das private in Python     \n",
    "                                                                                                                                                                                                               \n",
    "--> Ziel ist es für jeden relevanten Parameter des DecissionTrees eine Methode zu bauen die diesen durchläuft. Diese Methoden sollen dann in einer train Methode kombiniert werden um alle Fälle abzudecken."
   ]
  },
  {
   "cell_type": "code",
   "execution_count": 47,
   "metadata": {},
   "outputs": [],
   "source": [
    "class myTree:\n",
    "    def __init__(self, path, max_depthVal=0, max_depthMax=200, max_depthMin=0, min_sample_splitMax=5, min_sample_splitMin=2, clf=None):\n",
    "        self.path = path\n",
    "        self.trainList = self.__data()\n",
    "        self.max_depthVal = max_depthVal\n",
    "        self.max_depthMax = max_depthMax\n",
    "        self.max_depthMin=max_depthMin\n",
    "        self.min_sample_splitMax = min_sample_splitMax\n",
    "        self.min_sample_splitMin = min_sample_splitMin\n",
    "        self.clf = clf\n",
    "    def __data(self):\n",
    "        self.data = pd.read_csv(self.path)\n",
    "        columnsLength = self.data.shape[1]-1\n",
    "        X = self.data.iloc[:,0:columnsLength]\n",
    "        y = self.data[[\"groupID\"]].values.ravel()\n",
    "        X_train, X_test, y_train, y_test = train_test_split(X,y, test_size=0.2, random_state=42, stratify=y)\n",
    "        return [X_train, X_test, y_train, y_test]\n",
    "    def out(self):\n",
    "        if(self.clf == None):\n",
    "            print(\"Modell ohne Parameter wird angelegt, da keines vorhanden:\")\n",
    "            self.clf = DecisionTreeClassifier(random_state=42)\n",
    "            self.clf = self.clf.fit(self.trainList[0], self.trainList[2])\n",
    "        predict = self.clf.predict(self.trainList[1])\n",
    "        report = classification_report(self.trainList[3], predict, target_names=[\"Atheism\", \"Graphics\", \"Space\", \"Religion\"])\n",
    "        print(report)\n",
    "        print(\"F-Score: \",f1_score(predict, self.trainList[3], average='macro'))\n",
    "        print(\"Precision: \",precision_score(predict, self.trainList[3], average='macro'))\n",
    "        print(\"Recall: \",recall_score(predict, self.trainList[3], average='macro'))\n",
    "    def max_depth(self, min, max):\n",
    "        self.max_depthMax = max\n",
    "        self.max_depthMin = min\n",
    "        f = 0\n",
    "        for i in range(self.max_depthMax):\n",
    "            if(i<=self.max_depthMin):\n",
    "                continue\n",
    "            clf = DecisionTreeClassifier(random_state=42, criterion=\"entropy\", max_depth=i)\n",
    "            clf = clf.fit(self.trainList[0], self.trainList[2])\n",
    "            predict = clf.predict(self.trainList[1])\n",
    "            if f1_score(predict, self.trainList[3], average='macro')>f:\n",
    "                f = f1_score(predict, self.trainList[3], average='macro')\n",
    "                self.max_depthVal = i\n",
    "                self.clf =  DecisionTreeClassifier(random_state=42, criterion=\"entropy\", max_depth=i)\n",
    "                self.clf = self.clf.fit(self.trainList[0], self.trainList[2])      \n",
    "        return self.max_depthVal\n",
    "    def min_sample_split(self):\n",
    "        pass\n"
   ]
  },
  {
   "cell_type": "code",
   "execution_count": 48,
   "metadata": {},
   "outputs": [
    {
     "name": "stdout",
     "output_type": "stream",
     "text": [
      "              precision    recall  f1-score   support\n",
      "\n",
      "     Atheism       0.55      0.51      0.53       159\n",
      "    Graphics       0.79      0.77      0.78       193\n",
      "       Space       0.61      0.81      0.70       197\n",
      "    Religion       0.54      0.35      0.43       125\n",
      "\n",
      "    accuracy                           0.64       674\n",
      "   macro avg       0.62      0.61      0.61       674\n",
      "weighted avg       0.64      0.64      0.63       674\n",
      "\n",
      "F-Score:  0.6081460258510376\n",
      "Precision:  0.608844984871816\n",
      "Recall:  0.6241808376421494\n"
     ]
    }
   ],
   "source": [
    "testTree = myTree(\"20newsgroups_processed.csv\")\n",
    "testTree.max_depth(100, 150)\n",
    "testTree.out()"
   ]
  },
  {
   "cell_type": "code",
   "execution_count": null,
   "metadata": {},
   "outputs": [],
   "source": []
  },
  {
   "cell_type": "markdown",
   "metadata": {},
   "source": [
    "Visualisierung des Baumes:"
   ]
  }
 ],
 "metadata": {
  "kernelspec": {
   "display_name": "studiumKI",
   "language": "python",
   "name": "python3"
  },
  "language_info": {
   "codemirror_mode": {
    "name": "ipython",
    "version": 3
   },
   "file_extension": ".py",
   "mimetype": "text/x-python",
   "name": "python",
   "nbconvert_exporter": "python",
   "pygments_lexer": "ipython3",
   "version": "3.11.10"
  }
 },
 "nbformat": 4,
 "nbformat_minor": 2
}
