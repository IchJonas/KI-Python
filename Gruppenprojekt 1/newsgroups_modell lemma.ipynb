{
 "cells": [
  {
   "cell_type": "markdown",
   "metadata": {},
   "source": [
    "pandas -> CSV-Datein einlesen;\n",
    "spacy -> Satzzeichen und Stopwörter;\n",
    "collections/Counter -> Häufigkeitsverteilung der Wörter;"
   ]
  },
  {
   "cell_type": "code",
   "execution_count": 7,
   "metadata": {},
   "outputs": [],
   "source": [
    "import pandas as pd\n",
    "import spacy\n",
    "from collections import Counter"
   ]
  },
  {
   "cell_type": "markdown",
   "metadata": {},
   "source": [
    "Einlesen des Datensatzes und Definierung der Stopwörter (muss noch erweiter werden auf alle unnötigen Stopwörter)"
   ]
  },
  {
   "cell_type": "code",
   "execution_count": 8,
   "metadata": {},
   "outputs": [
    {
     "name": "stdout",
     "output_type": "stream",
     "text": [
      "Anzahl doppelter Zeilen: 89\n",
      "Anzahl null Zeilen: text     90\n",
      "group     0\n",
      "dtype: int64\n"
     ]
    }
   ],
   "source": [
    "data = pd.read_csv(\"20 newsgroups/20newsgroups.csv\", on_bad_lines='skip', sep=';')\n",
    "data = data.iloc[:,1:3]\n",
    "\n",
    "doppelte_zeilen = data.duplicated().sum()\n",
    "na_zeilen = data.isna().sum()\n",
    "data = data.dropna()\n",
    "data = data.drop_duplicates()\n",
    "print(\"Anzahl doppelter Zeilen:\", doppelte_zeilen)\n",
    "print(\"Anzahl null Zeilen:\", na_zeilen)\n",
    "\n",
    "\n",
    "nlp = spacy.load(\"en_core_web_sm\")\n"
   ]
  },
  {
   "cell_type": "markdown",
   "metadata": {},
   "source": [
    "Erstellung der Häufigkeitsverteilung, mit gleichzeitiger Entfernung von Satzzeichen/Stopwörtern, und Ausgabe der 20 häufigsten Wörter (Ausführung auch hier nicht notwendig, dauert 2min)"
   ]
  },
  {
   "cell_type": "code",
   "execution_count": 13,
   "metadata": {},
   "outputs": [
    {
     "name": "stdout",
     "output_type": "stream",
     "text": [
      "Top 20 häufigste Wörter:\n",
      "image: 1816\n",
      "know: 1408\n",
      "space: 1361\n",
      "god: 1301\n",
      "think: 1242\n",
      "like: 1233\n",
      "people: 1223\n",
      "file: 1119\n",
      "time: 1090\n",
      "system: 1023\n",
      "say: 966\n",
      "use: 937\n",
      "good: 933\n",
      "program: 906\n",
      "find: 861\n",
      "point: 823\n",
      "thing: 821\n",
      "jpeg: 770\n",
      "way: 768\n",
      "look: 759\n"
     ]
    }
   ],
   "source": [
    "word_freq = Counter()\n",
    "\n",
    "for text in data[\"text\"]:\n",
    "    doc = nlp(text)  # NLP-Pipeline auf den Text anwenden\n",
    "    \n",
    "    # Filter und Lemmatisierung in einem Schritt\n",
    "    filtered_words = [\n",
    "        token.lemma_.lower() \n",
    "        for token in doc \n",
    "        if not token.is_stop and not token.is_punct and token.is_alpha\n",
    "    ]\n",
    "    \n",
    "    # Aktualisiere die Häufigkeitsverteilung\n",
    "    word_freq.update(filtered_words)\n",
    "\n",
    "# Ausgabe der Top 20 Wörter\n",
    "print(\"Top 20 häufigste Wörter:\")\n",
    "for word, count in word_freq.most_common(20):\n",
    "    print(f\"{word}: {count}\")\n"
   ]
  },
  {
   "cell_type": "markdown",
   "metadata": {},
   "source": [
    "n most common words"
   ]
  },
  {
   "cell_type": "code",
   "execution_count": 14,
   "metadata": {},
   "outputs": [
    {
     "name": "stdout",
     "output_type": "stream",
     "text": [
      "[('image', 1816), ('know', 1408), ('space', 1361), ('god', 1301), ('think', 1242), ('like', 1233), ('people', 1223), ('file', 1119), ('time', 1090), ('system', 1023), ('say', 966), ('use', 937), ('good', 933), ('program', 906), ('find', 861), ('point', 823), ('thing', 821), ('jpeg', 770), ('way', 768), ('look', 759), ('believe', 729), ('work', 709), ('want', 678), ('read', 668), ('need', 666), ('format', 657), ('year', 654), ('bit', 652), ('include', 651), ('available', 646), ('come', 645), ('new', 644), ('try', 618), ('post', 605), ('mean', 604), ('write', 596), ('jesus', 583), ('support', 582), ('datum', 573), ('book', 564), ('right', 559), ('question', 558), ('software', 556), ('launch', 554), ('information', 550), ('color', 546), ('go', 542), ('problem', 527), ('graphic', 519), ('version', 509), ('base', 503), ('get', 501), ('send', 499), ('etc', 494), ('tell', 485), ('well', 468), ('day', 468), ('line', 462), ('earth', 461), ('life', 460), ('true', 455), ('religion', 449), ('high', 448), ('word', 444), ('give', 442), ('mail', 441), ('bible', 440), ('world', 438), ('claim', 434), ('example', 431), ('long', 431), ('different', 430), ('follow', 426), ('source', 423), ('number', 422), ('display', 420), ('set', 419), ('exist', 418), ('group', 417), ('help', 406), ('ftp', 406), ('run', 403), ('belief', 402), ('gif', 400), ('computer', 399), ('orbit', 398), ('mission', 390), ('fact', 387), ('take', 385), ('note', 383), ('change', 383), ('satellite', 383), ('list', 382), ('see', 382), ('case', 380), ('place', 380), ('free', 380), ('call', 379), ('atheist', 377), ('nasa', 373), ('man', 372), ('view', 372), ('provide', 372), ('argument', 371), ('make', 370), ('evidence', 365), ('science', 359), ('reason', 358), ('ask', 356), ('package', 355), ('object', 354), ('large', 354), ('x', 351), ('thank', 348), ('christian', 347), ('state', 346), ('human', 346), ('article', 345), ('code', 345), ('idea', 340), ('order', 337), ('real', 336), ('cost', 330), ('site', 328), ('course', 327), ('lot', 327), ('start', 327), ('create', 325), ('far', 324), ('require', 322), ('great', 319), ('actually', 317), ('answer', 317), ('value', 314), ('small', 310), ('design', 310), ('consider', 308), ('possible', 307), ('sure', 304), ('address', 300), ('user', 300), ('research', 297), ('shuttle', 297), ('probably', 295), ('little', 295), ('convert', 294), ('hear', 290), ('standard', 287), ('moral', 286), ('project', 286), ('law', 285), ('power', 283), ('moon', 282), ('end', 280), ('agree', 276), ('center', 276), ('general', 275), ('allow', 274), ('result', 272), ('matter', 272), ('build', 271), ('form', 271), ('ray', 271), ('old', 270), ('surface', 268), ('person', 268), ('bad', 266), ('wrong', 262), ('contain', 261), ('non', 260), ('let', 260), ('faq', 256), ('second', 255), ('live', 255), ('understand', 254), ('sun', 254), ('solar', 253), ('cause', 252), ('e', 251), ('subject', 251), ('statement', 251), ('issue', 251), ('text', 246), ('type', 245), ('light', 245), ('graphics', 245), ('pc', 244), ('big', 244), ('assume', 243), ('model', 242), ('talk', 240), ('test', 240), ('reference', 240), ('material', 239), ('spacecraft', 238), ('sense', 236), ('society', 234), ('theory', 234), ('stuff', 232), ('religious', 232), ('current', 232), ('yes', 231), ('low', 230), ('child', 229), ('technology', 229), ('area', 229), ('universe', 229), ('level', 227), ('mind', 227), ('atheism', 226), ('add', 223), ('faith', 223), ('archive', 223), ('hand', 222), ('able', 221), ('lord', 221), ('application', 221), ('christians', 220), ('contact', 219), ('pub', 219), ('university', 218), ('c', 217), ('define', 216), ('hold', 216), ('accept', 215), ('present', 214), ('control', 214), ('directory', 213), ('position', 212), ('explain', 212), ('original', 212), ('mac', 212), ('b', 211), ('describe', 211), ('quality', 210), ('christ', 210), ('tool', 208), ('analysis', 208), ('report', 207), ('commercial', 207), ('copy', 206), ('happen', 205), ('quote', 205), ('library', 205), ('die', 204), ('public', 203), ('process', 202), ('kill', 202), ('lunar', 201), ('leave', 201), ('objective', 201), ('email', 200), ('close', 200), ('feel', 200), ('hope', 199), ('processing', 199), ('planet', 199), ('love', 199), ('kind', 198), ('maybe', 198), ('field', 198), ('pixel', 197), ('message', 197), ('o', 196), ('mention', 196), ('info', 194), ('away', 193), ('jehovah', 193), ('show', 192), ('z', 192), ('develop', 191), ('money', 191), ('star', 189), ('prove', 189), ('term', 189), ('force', 188), ('flight', 188), ('purpose', 188), ('rule', 186), ('hard', 186), ('simple', 186), ('fast', 186), ('station', 186), ('save', 185), ('speak', 185), ('data', 184), ('early', 184), ('probe', 183), ('morality', 182), ('news', 180), ('john', 180), ('appear', 179), ('discussion', 178), ('server', 178), ('video', 177), ('government', 177), ('viewer', 177), ('hardware', 176), ('body', 176), ('sort', 176), ('event', 176), ('machine', 176), ('simply', 175), ('history', 175), ('truth', 175), ('check', 175), ('degree', 175), ('involve', 174), ('m', 174), ('particular', 174), ('author', 173), ('church', 173), ('rocket', 173), ('lead', 172), ('development', 170), ('certainly', 169), ('remember', 169), ('picture', 168), ('company', 168), ('interesting', 168), ('unix', 166), ('fax', 166), ('posting', 165), ('attempt', 165), ('paper', 165), ('mars', 165), ('interested', 164), ('plan', 164), ('deal', 163), ('opinion', 163), ('command', 163), ('clear', 162), ('similar', 162), ('mode', 162), ('sound', 162), ('apply', 162), ('national', 162), ('detail', 161), ('size', 161), ('act', 161), ('refer', 161), ('energy', 160), ('single', 159), ('reply', 159), ('turn', 159), ('scientific', 159), ('speed', 158), ('venus', 158), ('screen', 158), ('study', 158), ('access', 158), ('death', 157), ('ago', 157), ('algorithm', 157), ('nature', 157), ('carry', 157), ('expect', 156), ('short', 156), ('important', 155), ('easy', 154), ('service', 154), ('function', 153), ('april', 153), ('feature', 153), ('member', 153), ('specific', 152), ('story', 152), ('correct', 152), ('d', 152), ('scale', 150), ('page', 150), ('islam', 150), ('return', 150), ('useful', 150), ('suggest', 149), ('sky', 149), ('physical', 149), ('pretty', 148), ('bring', 148), ('existence', 148), ('father', 148), ('error', 148), ('delete', 147), ('search', 147), ('individual', 147), ('discuss', 147), ('david', 147), ('choice', 146), ('map', 146), ('response', 145), ('box', 145), ('usenet', 145), ('mass', 144), ('late', 144), ('elohim', 144), ('complete', 143), ('spend', 143), ('offer', 143), ('currently', 143), ('action', 143), ('tiff', 143), ('open', 143), ('produce', 143), ('context', 143), ('section', 143), ('sorry', 142), ('date', 142), ('language', 141), ('near', 141), ('knowledge', 141), ('product', 141), ('later', 141), ('matthew', 140), ('have', 140), ('christianity', 139), ('conclusion', 139), ('black', 138), ('week', 138), ('anonymous', 138), ('usually', 138), ('atmosphere', 138), ('american', 137), ('card', 137), ('head', 137), ('face', 137), ('fly', 137), ('press', 137), ('organization', 137), ('effect', 136), ('volume', 136), ('suppose', 135), ('strong', 135), ('observation', 135), ('relate', 135), ('frame', 134), ('choose', 134), ('astronomy', 134), ('environment', 133), ('learn', 133), ('month', 133), ('fall', 132), ('windows', 132), ('shall', 132), ('instead', 132), ('release', 132), ('common', 131), ('wonder', 131), ('newsgroup', 131), ('difference', 131), ('situation', 131), ('vehicle', 131), ('concept', 130), ('range', 130), ('local', 130), ('international', 130), ('conversion', 130), ('option', 130), ('sgi', 129), ('interest', 129), ('decide', 129), ('driver', 129), ('guess', 128), ('rest', 128), ('draw', 128), ('personal', 128), ('war', 127), ('appreciate', 127), ('million', 127), ('accord', 127), ('buy', 127), ('definition', 127), ('cover', 127), ('mirror', 127), ('care', 126), ('nice', 126), ('pass', 126), ('element', 126), ('request', 125), ('future', 125), ('fit', 125), ('stop', 125), ('technical', 125), ('exactly', 125), ('rate', 125), ('likely', 125), ('lose', 124), ('today', 124), ('interpretation', 124), ('receive', 124), ('bill', 124), ('gamma', 124), ('couple', 123), ('pay', 123), ('especially', 123), ('dc', 123), ('special', 123), ('verse', 123), ('major', 123), ('figure', 122), ('capability', 122), ('operation', 122), ('perform', 122), ('internet', 122), ('hi', 121), ('self', 121), ('koresh', 120), ('mark', 120), ('net', 120), ('database', 120), ('conference', 120), ('resource', 120), ('country', 119), ('hour', 119), ('output', 119), ('basic', 119), ('fund', 119), ('amiga', 119), ('plane', 118), ('interface', 118), ('begin', 118), ('land', 118), ('sell', 118), ('activity', 118), ('disk', 118), ('dos', 118), ('experience', 117), ('polygon', 117), ('son', 117), ('drive', 117), ('white', 116), ('edge', 116), ('method', 116), ('reality', 116), ('lack', 116), ('shareware', 116), ('ibm', 115), ('animation', 115), ('mile', 114), ('advance', 114), ('air', 114), ('concern', 114), ('description', 113), ('handle', 113), ('imagine', 112), ('certain', 112), ('false', 112), ('telescope', 112), ('lie', 112), ('increase', 112), ('ignore', 111), ('memory', 111), ('past', 110), ('necessary', 110), ('window', 110), ('comment', 109), ('play', 109), ('s', 108), ('mormon', 108), ('basis', 108), ('ground', 108), ('planetary', 108), ('store', 107), ('occur', 107), ('limit', 107), ('scientist', 107), ('meaning', 107), ('ra', 107), ('fail', 106), ('price', 106), ('night', 106), ('platform', 106), ('charge', 105), ('approach', 105), ('stage', 105), ('orbiter', 105), ('compression', 105), ('resolution', 104), ('market', 104), ('woman', 104), ('plot', 104), ('proof', 104), ('effort', 103), ('half', 103), ('stand', 103), ('series', 103), ('bear', 103), ('doubt', 103), ('heaven', 103), ('orbital', 103), ('structure', 103), ('office', 103), ('worth', 103), ('comet', 103), ('sin', 103), ('continue', 102), ('publish', 102), ('modify', 102), ('teach', 102), ('billion', 102), ('g', 102), ('reach', 102), ('argue', 102), ('easily', 101), ('thousand', 101), ('postscript', 100), ('serve', 100), ('passage', 99), ('step', 99), ('thou', 99), ('network', 99), ('respond', 98), ('obtain', 98), ('name', 98), ('fire', 98), ('king', 98), ('render', 98), ('principle', 98), ('period', 98), ('wish', 98), ('class', 98), ('miss', 97), ('perfect', 97), ('determine', 97), ('programming', 97), ('usa', 97), ('hst', 97), ('payload', 97), ('natural', 96), ('spirit', 96), ('remain', 96), ('propulsion', 96), ('evil', 95), ('engineering', 95), ('distance', 95), ('radio', 95), ('theism', 95), ('gopher', 95), ('jim', 94), ('anti', 94), ('keep', 94), ('phone', 94), ('red', 94), ('routine', 94), ('century', 93), ('recently', 93), ('maintain', 93), ('visualization', 93), ('main', 93), ('job', 93), ('key', 93), ('city', 92), ('anybody', 92), ('military', 92), ('cut', 92), ('directly', 92), ('robert', 92), ('direct', 92), ('device', 92), ('one', 92), ('thought', 92), ('jfif', 92), ('intend', 91), ('theist', 91), ('complex', 91), ('digital', 91), ('practice', 91), ('board', 91), ('topic', 91), ('burn', 91), ('cloud', 91), ('forget', 91), ('ok', 90), ('imply', 90), ('eye', 90), ('propose', 90), ('hell', 90), ('nation', 90), ('generate', 90), ('judge', 89), ('colour', 89), ('authority', 89), ('logic', 89), ('engine', 89), ('plus', 89), ('temperature', 88), ('kent', 88), ('islamic', 88), ('y', 88), ('indicate', 88), ('hole', 88), ('soviet', 88), ('factor', 88), ('p', 88), ('module', 88), ('manipulation', 88), ('clearly', 87), ('document', 87), ('r', 87), ('fallacy', 87), ('friend', 87), ('instance', 87), ('addition', 87), ('distribute', 87), ('art', 87), ('location', 87), ('freedom', 87), ('medium', 86), ('jews', 86), ('fine', 86), ('foot', 86), ('motion', 86), ('possibility', 86), ('understanding', 86), ('distribution', 86), ('phigs', 86), ('oh', 85), ('measure', 85), ('possibly', 85), ('unfortunately', 85), ('guy', 85), ('doctrine', 85), ('quicktime', 85), ('utility', 85), ('interactive', 85), ('setting', 85), ('respect', 84), ('michael', 84), ('thread', 84), ('fuel', 84), ('xv', 84), ('title', 84), ('workstation', 83), ('soon', 83), ('dead', 83), ('bug', 83), ('unto', 83), ('scripture', 83), ('record', 83), ('observe', 83), ('facility', 83), ('following', 82), ('peace', 82), ('business', 82), ('cheap', 82), ('willing', 82), ('update', 82), ('jupiter', 82), ('dark', 82), ('experiment', 81), ('n', 81), ('bob', 81), ('direction', 81), ('road', 81), ('team', 81), ('v', 81), ('de', 81), ('gas', 81), ('instrument', 81), ('basically', 81), ('unit', 81), ('alternative', 80), ('creation', 80), ('raise', 80), ('wide', 80), ('grow', 80), ('depend', 79), ('total', 79), ('explanation', 79), ('community', 79), ('eternal', 79), ('premise', 79), ('array', 79), ('systems', 79), ('goal', 79), ('outside', 79), ('remote', 79), ('holy', 79), ('represent', 78), ('ad', 78), ('cross', 78), ('kilometer', 78), ('ii', 78), ('dec', 78), ('print', 78), ('normal', 78), ('movie', 78), ('operate', 77), ('chapter', 77), ('difficult', 77), ('advanced', 77), ('t', 77), ('physicist', 77), ('independent', 77), ('tend', 77), ('notice', 76), ('exploration', 76), ('input', 76), ('solution', 76), ('stay', 76), ('animal', 76), ('paul', 76), ('entire', 76), ('electronic', 76), ('absolute', 75), ('regard', 75), ('street', 75), ('peter', 75), ('part', 75), ('institute', 75), ('age', 75), ('water', 75), ('official', 75), ('meet', 75), ('astronaut', 75), ('observer', 75), ('texture', 74), ('reasonable', 74), ('drop', 74), ('specifically', 74), ('contradiction', 74), ('suggestion', 74), ('bank', 74), ('bbs', 74), ('fix', 74), ('burst', 74), ('cd', 73), ('avoid', 73), ('minute', 73), ('russian', 73), ('school', 73), ('recent', 73), ('house', 73), ('moment', 73), ('break', 73), ('finally', 73), ('completely', 73), ('family', 73), ('leader', 73), ('merely', 73), ('host', 73), ('gay', 73), ('shape', 73), ('inside', 73), ('select', 72), ('virtual', 72), ('share', 72), ('muslim', 72), ('assumption', 72), ('load', 72), ('signal', 72), ('editor', 72), ('evolution', 72), ('majority', 72), ('poor', 71), ('loss', 71), ('supply', 71), ('admit', 71), ('prophecy', 71), ('sequence', 71), ('siggraph', 71), ('necessarily', 71), ('performance', 71), ('obvious', 71), ('attack', 71), ('compress', 71), ('greek', 71), ('index', 71), ('online', 71), ('slow', 70), ('interpret', 70), ('mcconkie', 70), ('saturn', 70), ('waste', 70), ('vertex', 70), ('macintosh', 70), ('gravity', 69), ('conclude', 69), ('gospel', 69), ('fill', 69), ('generally', 69), ('schedule', 69), ('enter', 69), ('asteroid', 69), ('worship', 69), ('final', 69), ('account', 69), ('km', 69), ('client', 69), ('imaging', 68), ('separate', 68), ('stick', 68), ('significant', 68), ('york', 68), ('realize', 68), ('obviously', 68), ('reduce', 68), ('astronomical', 68), ('industry', 68), ('circle', 68), ('double', 68), ('demonstrate', 67), ('desire', 67), ('remove', 67), ('convince', 67), ('reveal', 67), ('entirely', 67), ('happy', 67), ('watch', 67), ('agency', 67), ('prophet', 67), ('follower', 67), ('trace', 67), ('vga', 67), ('home', 67), ('domain', 67), ('compare', 66), ('washington', 66), ('discover', 66), ('fairly', 66), ('student', 66), ('generation', 66), ('impact', 66), ('debate', 66), ('valid', 66), ('reject', 66), ('hang', 66), ('listing', 66), ('isbn', 66), ('journal', 66), ('aspect', 66), ('menu', 66), ('tracer', 66), ('flyby', 65), ('eventually', 65), ('voice', 65), ('decision', 65), ('gain', 65), ('murder', 65), ('north', 65), ('pressure', 65), ('content', 65), ('mary', 65), ('social', 65), ('tradition', 65), ('solid', 65), ('achieve', 65), ('ms', 65), ('apparently', 65), ('sex', 65), ('purchase', 64), ('political', 64), ('visible', 64), ('advantage', 64), ('believer', 64), ('letter', 64), ('demand', 64), ('messiah', 64), ('jewish', 64), ('legal', 64), ('homosexual', 64), ('reader', 64), ('behavior', 64), ('vision', 64), ('binary', 64), ('rayshade', 64), ('brain', 63), ('orient', 63), ('promise', 63), ('move', 63), ('piece', 63), ('disagree', 63), ('engineer', 63), ('fee', 63), ('typical', 63), ('vesa', 63), ('k', 63), ('gun', 63), ('quantization', 63), ('eat', 62), ('biblical', 62), ('heart', 62), ('budget', 62), ('particle', 62), ('welcome', 62), ('establish', 62), ('heavy', 62), ('documentation', 62), ('multiple', 62), ('converter', 62), ('personally', 61), ('ps', 61), ('ability', 61), ('parallel', 61), ('technique', 61), ('bright', 61), ('modern', 61), ('commit', 61), ('galaxy', 61), ('previous', 61), ('potential', 61)]\n"
     ]
    }
   ],
   "source": [
    "print(word_freq.most_common(1000))\n",
    "name_list_length = 1000\n",
    "top_n_words = [word for word, _ in word_freq.most_common(name_list_length)]"
   ]
  },
  {
   "cell_type": "markdown",
   "metadata": {},
   "source": [
    "Erstellung der neuen CSV-Datei"
   ]
  },
  {
   "cell_type": "code",
   "execution_count": 15,
   "metadata": {},
   "outputs": [
    {
     "data": {
      "text/html": [
       "<div>\n",
       "<style scoped>\n",
       "    .dataframe tbody tr th:only-of-type {\n",
       "        vertical-align: middle;\n",
       "    }\n",
       "\n",
       "    .dataframe tbody tr th {\n",
       "        vertical-align: top;\n",
       "    }\n",
       "\n",
       "    .dataframe thead th {\n",
       "        text-align: right;\n",
       "    }\n",
       "</style>\n",
       "<table border=\"1\" class=\"dataframe\">\n",
       "  <thead>\n",
       "    <tr style=\"text-align: right;\">\n",
       "      <th></th>\n",
       "      <th>image</th>\n",
       "      <th>know</th>\n",
       "      <th>space</th>\n",
       "      <th>god</th>\n",
       "      <th>think</th>\n",
       "      <th>like</th>\n",
       "      <th>people</th>\n",
       "      <th>file</th>\n",
       "      <th>time</th>\n",
       "      <th>system</th>\n",
       "      <th>...</th>\n",
       "      <th>ability</th>\n",
       "      <th>parallel</th>\n",
       "      <th>technique</th>\n",
       "      <th>bright</th>\n",
       "      <th>modern</th>\n",
       "      <th>commit</th>\n",
       "      <th>galaxy</th>\n",
       "      <th>previous</th>\n",
       "      <th>potential</th>\n",
       "      <th>groupID</th>\n",
       "    </tr>\n",
       "  </thead>\n",
       "  <tbody>\n",
       "  </tbody>\n",
       "</table>\n",
       "<p>0 rows × 1001 columns</p>\n",
       "</div>"
      ],
      "text/plain": [
       "Empty DataFrame\n",
       "Columns: [image, know, space, god, think, like, people, file, time, system, say, use, good, program, find, point, thing, jpeg, way, look, believe, work, want, read, need, format, year, bit, include, available, come, new, try, post, mean, write, jesus, support, datum, book, right, question, software, launch, information, color, go, problem, graphic, version, base, get, send, etc, tell, well, day, line, earth, life, true, religion, high, word, give, mail, bible, world, claim, example, long, different, follow, source, number, display, set, exist, group, help, ftp, run, belief, gif, computer, orbit, mission, fact, take, note, change, satellite, list, see, case, place, free, call, atheist, nasa, ...]\n",
       "Index: []\n",
       "\n",
       "[0 rows x 1001 columns]"
      ]
     },
     "execution_count": 15,
     "metadata": {},
     "output_type": "execute_result"
    }
   ],
   "source": [
    "wort_namen_list = [wort for wort, _ in word_freq.most_common(name_list_length)]\n",
    "wort_namen_list.append('groupID')\n",
    "processedData = pd.DataFrame(columns=wort_namen_list)\n",
    "processedData.to_csv(\"20newsgroups_processed.csv\", index=False)\n",
    "processedData.head()"
   ]
  },
  {
   "cell_type": "markdown",
   "metadata": {},
   "source": [
    "Gesamte CSV-Datei (dauert fast 3min --> CSV-Datei ist schon erstellt, ausführen nicht notwendig)"
   ]
  },
  {
   "cell_type": "code",
   "execution_count": null,
   "metadata": {},
   "outputs": [],
   "source": [
    "# Liste zum Speichern der Ergebnisse\n",
    "rows = []\n",
    "\n",
    "for index, row in data.iterrows():\n",
    "    text = str(row['text'])\n",
    "    group = str(row['group'])\n",
    "\n",
    "    doc = nlp(text)\n",
    "    count_in_top_n = Counter(\n",
    "        token.lemma_.lower() for token in doc if token.is_alpha and not token.is_stop and not token.is_punct\n",
    "    )\n",
    "\n",
    "    haeufigkeiten = {word: count_in_top_n.get(word, 0) for word in top_n_words}\n",
    "    haeufigkeiten['groupID'] = group\n",
    "    rows.append(haeufigkeiten)\n",
    "\n",
    "# Erstelle einen DataFrame aus der Liste der Ergebnisse\n",
    "processedData = pd.DataFrame(rows)\n",
    "\n",
    "# Speichere den DataFrame und gib die ersten Zeilen aus\n",
    "processedData.to_csv(\"20newsgroups_processed.csv\", index=False)\n",
    "print(processedData.head())"
   ]
  },
  {
   "cell_type": "markdown",
   "metadata": {},
   "source": [
    "Einfache Ausgabe"
   ]
  },
  {
   "cell_type": "code",
   "execution_count": 74,
   "metadata": {},
   "outputs": [
    {
     "data": {
      "text/html": [
       "<div>\n",
       "<style scoped>\n",
       "    .dataframe tbody tr th:only-of-type {\n",
       "        vertical-align: middle;\n",
       "    }\n",
       "\n",
       "    .dataframe tbody tr th {\n",
       "        vertical-align: top;\n",
       "    }\n",
       "\n",
       "    .dataframe thead th {\n",
       "        text-align: right;\n",
       "    }\n",
       "</style>\n",
       "<table border=\"1\" class=\"dataframe\">\n",
       "  <thead>\n",
       "    <tr style=\"text-align: right;\">\n",
       "      <th></th>\n",
       "      <th></th>\n",
       "      <th>=</th>\n",
       "      <th></th>\n",
       "      <th>&gt;</th>\n",
       "      <th></th>\n",
       "      <th>space</th>\n",
       "      <th></th>\n",
       "      <th>don\\'t</th>\n",
       "      <th>people</th>\n",
       "      <th>like</th>\n",
       "      <th>...</th>\n",
       "      <th>media</th>\n",
       "      <th>charge</th>\n",
       "      <th>washington</th>\n",
       "      <th>let\\</th>\n",
       "      <th>moment</th>\n",
       "      <th>published</th>\n",
       "      <th>fairly</th>\n",
       "      <th>refer</th>\n",
       "      <th>child</th>\n",
       "      <th>groupID</th>\n",
       "    </tr>\n",
       "  </thead>\n",
       "  <tbody>\n",
       "    <tr>\n",
       "      <th>0</th>\n",
       "      <td>0</td>\n",
       "      <td>0</td>\n",
       "      <td>0</td>\n",
       "      <td>0</td>\n",
       "      <td>0</td>\n",
       "      <td>0</td>\n",
       "      <td>0</td>\n",
       "      <td>0</td>\n",
       "      <td>0</td>\n",
       "      <td>1</td>\n",
       "      <td>...</td>\n",
       "      <td>0</td>\n",
       "      <td>0</td>\n",
       "      <td>0</td>\n",
       "      <td>0</td>\n",
       "      <td>0</td>\n",
       "      <td>0</td>\n",
       "      <td>0</td>\n",
       "      <td>0</td>\n",
       "      <td>0</td>\n",
       "      <td>1</td>\n",
       "    </tr>\n",
       "    <tr>\n",
       "      <th>1</th>\n",
       "      <td>0</td>\n",
       "      <td>0</td>\n",
       "      <td>0</td>\n",
       "      <td>0</td>\n",
       "      <td>0</td>\n",
       "      <td>0</td>\n",
       "      <td>0</td>\n",
       "      <td>0</td>\n",
       "      <td>0</td>\n",
       "      <td>1</td>\n",
       "      <td>...</td>\n",
       "      <td>0</td>\n",
       "      <td>0</td>\n",
       "      <td>0</td>\n",
       "      <td>0</td>\n",
       "      <td>0</td>\n",
       "      <td>0</td>\n",
       "      <td>0</td>\n",
       "      <td>0</td>\n",
       "      <td>0</td>\n",
       "      <td>3</td>\n",
       "    </tr>\n",
       "    <tr>\n",
       "      <th>2</th>\n",
       "      <td>0</td>\n",
       "      <td>0</td>\n",
       "      <td>0</td>\n",
       "      <td>0</td>\n",
       "      <td>0</td>\n",
       "      <td>0</td>\n",
       "      <td>0</td>\n",
       "      <td>0</td>\n",
       "      <td>0</td>\n",
       "      <td>0</td>\n",
       "      <td>...</td>\n",
       "      <td>0</td>\n",
       "      <td>0</td>\n",
       "      <td>0</td>\n",
       "      <td>0</td>\n",
       "      <td>0</td>\n",
       "      <td>0</td>\n",
       "      <td>0</td>\n",
       "      <td>0</td>\n",
       "      <td>0</td>\n",
       "      <td>2</td>\n",
       "    </tr>\n",
       "    <tr>\n",
       "      <th>3</th>\n",
       "      <td>0</td>\n",
       "      <td>0</td>\n",
       "      <td>0</td>\n",
       "      <td>0</td>\n",
       "      <td>0</td>\n",
       "      <td>0</td>\n",
       "      <td>0</td>\n",
       "      <td>0</td>\n",
       "      <td>0</td>\n",
       "      <td>2</td>\n",
       "      <td>...</td>\n",
       "      <td>0</td>\n",
       "      <td>0</td>\n",
       "      <td>0</td>\n",
       "      <td>0</td>\n",
       "      <td>0</td>\n",
       "      <td>0</td>\n",
       "      <td>0</td>\n",
       "      <td>0</td>\n",
       "      <td>0</td>\n",
       "      <td>0</td>\n",
       "    </tr>\n",
       "    <tr>\n",
       "      <th>4</th>\n",
       "      <td>0</td>\n",
       "      <td>0</td>\n",
       "      <td>0</td>\n",
       "      <td>0</td>\n",
       "      <td>0</td>\n",
       "      <td>0</td>\n",
       "      <td>0</td>\n",
       "      <td>0</td>\n",
       "      <td>0</td>\n",
       "      <td>0</td>\n",
       "      <td>...</td>\n",
       "      <td>0</td>\n",
       "      <td>0</td>\n",
       "      <td>0</td>\n",
       "      <td>0</td>\n",
       "      <td>0</td>\n",
       "      <td>0</td>\n",
       "      <td>0</td>\n",
       "      <td>0</td>\n",
       "      <td>0</td>\n",
       "      <td>2</td>\n",
       "    </tr>\n",
       "  </tbody>\n",
       "</table>\n",
       "<p>5 rows × 1001 columns</p>\n",
       "</div>"
      ],
      "text/plain": [
       "      =       >       space             don\\'t people like  ... media charge  \\\n",
       "0  0  0    0  0     0     0           0      0      0    1  ...     0      0   \n",
       "1  0  0    0  0     0     0           0      0      0    1  ...     0      0   \n",
       "2  0  0    0  0     0     0           0      0      0    0  ...     0      0   \n",
       "3  0  0    0  0     0     0           0      0      0    2  ...     0      0   \n",
       "4  0  0    0  0     0     0           0      0      0    0  ...     0      0   \n",
       "\n",
       "  washington let\\ moment published fairly refer child groupID  \n",
       "0          0    0      0         0      0     0     0       1  \n",
       "1          0    0      0         0      0     0     0       3  \n",
       "2          0    0      0         0      0     0     0       2  \n",
       "3          0    0      0         0      0     0     0       0  \n",
       "4          0    0      0         0      0     0     0       2  \n",
       "\n",
       "[5 rows x 1001 columns]"
      ]
     },
     "execution_count": 74,
     "metadata": {},
     "output_type": "execute_result"
    }
   ],
   "source": [
    "processedData.head()"
   ]
  }
 ],
 "metadata": {
  "kernelspec": {
   "display_name": ".venv",
   "language": "python",
   "name": "python3"
  },
  "language_info": {
   "codemirror_mode": {
    "name": "ipython",
    "version": 3
   },
   "file_extension": ".py",
   "mimetype": "text/x-python",
   "name": "python",
   "nbconvert_exporter": "python",
   "pygments_lexer": "ipython3",
   "version": "3.12.3"
  }
 },
 "nbformat": 4,
 "nbformat_minor": 2
}
