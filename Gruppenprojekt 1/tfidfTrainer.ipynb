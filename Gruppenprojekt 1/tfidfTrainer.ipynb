{
 "cells": [
  {
   "cell_type": "code",
   "execution_count": 1,
   "metadata": {},
   "outputs": [],
   "source": [
    "# Standard-Bibliotheken\n",
    "import warnings\n",
    "import pandas as pd\n",
    "import matplotlib.pyplot as plt\n",
    "\n",
    "# Scikit-learn: Modellselektion und Validierung\n",
    "from sklearn.model_selection import train_test_split\n",
    "from sklearn.model_selection import RandomizedSearchCV\n",
    "from sklearn.model_selection import GridSearchCV\n",
    "\n",
    "# Scikit-learn: Feature-Engineering\n",
    "from sklearn.feature_extraction.text import TfidfVectorizer\n",
    "\n",
    "# Scikit-learn: Modelle\n",
    "from sklearn.tree import DecisionTreeClassifier\n",
    "from sklearn.tree import plot_tree\n",
    "from sklearn import tree \n",
    "\n",
    "\n",
    "\n",
    "# Scikit-learn: Metriken\n",
    "from sklearn.metrics import classification_report\n",
    "from sklearn.metrics import precision_score\n",
    "from sklearn.metrics import recall_score\n",
    "from sklearn.metrics import f1_score\n",
    "\n",
    "# Scikit-learn: Pipeline\n",
    "from sklearn.pipeline import Pipeline\n",
    "\n",
    "# Warnungen ignorieren\n",
    "warnings.simplefilter(action='ignore', category=FutureWarning)\n",
    "\n",
    "# System\n",
    "import os\n",
    "import sys\n"
   ]
  },
  {
   "cell_type": "markdown",
   "metadata": {},
   "source": [
    "### OPT 1: Laden Preprocess dateien (Daten Test u. Train seperat)\n",
    "- inkl. Aufteilung X_train, X_test, y_train, y_test, X_dev, y_dev\n",
    "- Bereitet die Trainings-, Test- und Validierungsdaten vor.\n",
    "    Args:\n",
    "        train_file (str): Pfad zur CSV-Datei der Trainingsdaten.\n",
    "        test_file (str): Pfad zur CSV-Datei der Testdaten.\n",
    "    Returns:\n",
    "        tuple: Enthält die Trainingsdaten (X_train, y_train), \n",
    "               Testdaten (X_test, y_test) und \n",
    "               Validierungsdaten (X_dev, y_dev)."
   ]
  },
  {
   "cell_type": "code",
   "execution_count": 2,
   "metadata": {},
   "outputs": [],
   "source": [
    "def prepare_data(train_file, test_file):\n",
    "    # Daten laden\n",
    "    data_train = pd.read_csv(train_file, on_bad_lines='skip', sep=';')\n",
    "    data_test = pd.read_csv(test_file, on_bad_lines='skip', sep=';')\n",
    "\n",
    "    # Features und Labels extrahieren\n",
    "    X_train = data_train['text']\n",
    "    y_train = data_train['group']\n",
    "    X_test = data_test['text']\n",
    "    y_test = data_test['group']\n",
    "\n",
    "    # Testdaten in Test- und Validierungsdaten aufteilen\n",
    "    X_test, X_dev, y_test, y_dev = train_test_split(\n",
    "        X_test, y_test, test_size=0.5, random_state=42, stratify=y_test\n",
    "    )\n",
    "\n",
    "    return (X_train, y_train), (X_test, y_test), (X_dev, y_dev)"
   ]
  },
  {
   "cell_type": "markdown",
   "metadata": {},
   "source": [
    "OPT 1.1: Ausführung der prepare_data(): Laden dataLemmaLowerStop_train manuell\n",
    "- Muss nicht ausgeführt werden wenn calculate_f1_macro() ausgeführt wird"
   ]
  },
  {
   "cell_type": "code",
   "execution_count": 13,
   "metadata": {},
   "outputs": [
    {
     "name": "stdout",
     "output_type": "stream",
     "text": [
      "Trainingsdaten: (2624,) (2624,)\n",
      "Testdaten: (328,) (328,)\n",
      "Validierungsdaten: (328,) (328,)\n"
     ]
    }
   ],
   "source": [
    "train_file = \"preprocessed/dataLemmaLowerStop_train.csv\"\n",
    "test_file = \"preprocessed/dataLemmaLowerStop_test.csv\"\n",
    "\n",
    "(X_train, y_train), (X_test, y_test), (X_dev, y_dev) = prepare_data(train_file, test_file)\n",
    "\n",
    "print(\"Trainingsdaten:\", X_train.shape, y_train.shape)\n",
    "print(\"Testdaten:\", X_test.shape, y_test.shape)\n",
    "print(\"Validierungsdaten:\", X_dev.shape, y_dev.shape)"
   ]
  },
  {
   "cell_type": "markdown",
   "metadata": {},
   "source": [
    "OPT 1.2: Ausführung der prepare_data(): Laden dataLemmaLemmaStopNouns_train manuell\n",
    "- Muss nicht ausgeführt werden wenn calculate_f1_macro() ausgeführt wird"
   ]
  },
  {
   "cell_type": "code",
   "execution_count": null,
   "metadata": {},
   "outputs": [],
   "source": [
    "train_file = \"preprocessed/dataLemmaLowerStopNouns_train.csv\"\n",
    "test_file = \"preprocessed/dataLemmaLowerStopNouns_test.csv\"\n",
    "\n",
    "(X_train, y_train), (X_test, y_test), (X_dev, y_dev) = prepare_data(train_file, test_file)\n",
    "\n",
    "print(\"Trainingsdaten:\", X_train.shape, y_train.shape)\n",
    "print(\"Testdaten:\", X_test.shape, y_test.shape)\n",
    "print(\"Validierungsdaten:\", X_dev.shape, y_dev.shape)"
   ]
  },
  {
   "cell_type": "markdown",
   "metadata": {},
   "source": [
    "### OPT 2 (Alte Variante): Laden Preprocess datei (Daten Test u. Train zsm.)\n",
    "- inkl. Aufteilung X_train, X_test, y_train, y_test, X_dev, y_dev"
   ]
  },
  {
   "cell_type": "code",
   "execution_count": null,
   "metadata": {},
   "outputs": [],
   "source": [
    "data = pd.read_csv(\"preprocessed/dataLemmaLowerStop.csv\", on_bad_lines='skip', sep=';')\n",
    "data = data.iloc[:,1:3]\n",
    "\n",
    "X_train, X_test, y_train, y_test = train_test_split(\n",
    "    data['text'], data['group'], test_size=0.2, random_state=42, stratify=data['group']\n",
    ")\n",
    "\n",
    "X_test, X_dev, y_test, y_dev = train_test_split(\n",
    "    X_test, y_test, test_size=0.5, random_state=42, stratify=y_test\n",
    ")\n",
    "\n",
    "print(X_train.shape)\n",
    "print(y_train.shape)\n",
    "print(X_test.shape)\n",
    "print(y_test.shape)\n",
    "print(X_dev.shape)\n",
    "print(y_dev.shape)"
   ]
  },
  {
   "cell_type": "markdown",
   "metadata": {},
   "source": [
    "### OPT 3 (Alte Variante): Laden 20newgroups unprocessed\n",
    "- inkl. Aufteilung X_train, X_test, y_train, y_test, X_dev, y_dev"
   ]
  },
  {
   "cell_type": "code",
   "execution_count": null,
   "metadata": {},
   "outputs": [],
   "source": [
    "data = pd.read_csv(\"20 newsgroups/20newsgroups.csv\", on_bad_lines='skip', sep=';')\n",
    "data = data.dropna()\n",
    "data = data.drop_duplicates()\n",
    "data = data.iloc[:,1:3]\n",
    "\n",
    "X_train, X_test, y_train, y_test = train_test_split(\n",
    "    data['text'], data['group'], test_size=0.2, random_state=42, stratify=data['group']\n",
    ")\n",
    "\n",
    "X_test, X_dev, y_test, y_dev = train_test_split(\n",
    "    X_test, y_test, test_size=0.5, random_state=42, stratify=y_test\n",
    ")\n",
    "\n",
    "print(X_train.shape)\n",
    "print(y_train.shape)\n",
    "print(X_test.shape)\n",
    "print(y_test.shape)\n",
    "print(X_dev.shape)\n",
    "print(y_dev.shape)"
   ]
  },
  {
   "cell_type": "markdown",
   "metadata": {},
   "source": [
    "### Tree Classifier ermittlung bester clf und tree Params (RandomizedSearchCV)\n",
    "- Um herauszufinden welche Parameter mit GridSearchCV genauer untersucht werden müssen\n",
    "- Zum testet n zufälliger Kombinationen der angegebenen tfidf und clf Parametern (n_iter), um eine Kombination mit gutem F1 Wert zu finden\n",
    "- Verwendung Pipelin um TF-IDF-Vektorisierung und TreeClassifier zu vereinheitlichen\n",
    "\n",
    "Erkentnisse:\n",
    "- clf__criterion gini beim trainieren mit vektoren immer am besten\n",
    "- min_sample_split 2 am besten\n",
    "- min saplee_leaf 1 am besten\n",
    "\n",
    "Erklärungen Parameter:\n",
    "    Params TfidfVectorizer:\n",
    "        - tfidf__max_df: Maximale Häufigkeit eines Begriffs in Dokumenten.\n",
    "        - tfidf__min_df: Minimale Häufigkeit eines Begriffs in Dokumenten.\n",
    "        - tfidf__max_features: Maximale Anzahl der zu extrahierenden Begriffe.\n",
    "        - tfidf__sublinear_tf eine Möglichkeit, die Bedeutung häufiger Begriffe in den Dokumenten zu dämpfen\n",
    "        - clf__max_depth: Maximale Tiefe des Entscheidungsbaums.\n",
    "        - clf__min_samples_split: Minimale Anzahl an Proben, um einen Knoten zu teilen.\n",
    "        - clf__criterion: Bewertungsfunktion für den Entscheidungsbaum. (entropy:feiner; gini:grober)\n",
    "        - clf__min_samples_leaf: Minimale Anzahl an Proben in einem Blatt des Entscheidungsbaums.\n",
    "    \n",
    "    Params RandomizedSearchCV:\n",
    "        - CV: Technik, um die Leistung eines Modells besser zu bewerten und Überanpassung (Overfitting) zu vermeiden. Dabei wird der verfügbare Datensatz in mehrere Teile (sogenannte Folds) aufgeteilt, und das Modell wird mehrfach trainiert und getestet."
   ]
  },
  {
   "cell_type": "code",
   "execution_count": null,
   "metadata": {},
   "outputs": [],
   "source": [
    "pipeline = Pipeline([\n",
    "    ('tfidf', TfidfVectorizer(\n",
    "        max_df=0.8,\n",
    "        min_df=2,\n",
    "        ngram_range=(1, 2),\n",
    "        stop_words='english',\n",
    "        max_features=5000,\n",
    "    )),\n",
    "    ('clf', DecisionTreeClassifier(random_state=42))\n",
    "])\n",
    "\n",
    "param_distributions = {\n",
    "    'tfidf__max_df': [0.1, 0.2, 0.5, 0.7, 0.8, 0.9],\n",
    "    'tfidf__min_df': [1, 2, 5],\n",
    "    'tfidf__max_features': [500, 1000, 3000, 5000, 10000, 15000, None],\n",
    "    'tfidf__sublinear_tf': [True, False],\n",
    "    'clf__max_depth': [60, 130, 140, 150, 160, 180, 200], \n",
    "    'clf__min_samples_split': [2, 3],\n",
    "    'clf__min_samples_leaf': [1, 2],\n",
    "    'clf__criterion': ['gini'],          \n",
    "}\n",
    "\n",
    "random_search = RandomizedSearchCV(\n",
    "    estimator=pipeline,\n",
    "    param_distributions=param_distributions,\n",
    "    n_iter=100,                   # Anzahl der zu testenden zufälligen Kombinationen\n",
    "    cv=5,                         # 5-fache Cross-Validation\n",
    "    scoring='f1_macro',           # Optimierung auf F1-Score (macro)\n",
    "    random_state=42,              # Zufälligkeit kontrollieren\n",
    "    n_jobs=-1                     # Parallele Verarbeitung\n",
    ")\n",
    "\n",
    "random_search.fit(X_train, y_train)\n",
    "\n",
    "best_params = random_search.best_params_\n",
    "print(\"Beste Parameter:\", best_params)\n",
    "\n",
    "best_pipeline = random_search.best_estimator_\n",
    "\n",
    "y_dev_pred = best_pipeline.predict(X_dev)\n",
    "\n",
    "print(\"F1-Score: \", f1_score(y_dev, y_dev_pred, average='macro'))\n",
    "print(\"Precision: \", precision_score(y_dev, y_dev_pred, average='macro'))\n",
    "print(\"Recall: \", recall_score(y_dev, y_dev_pred, average='macro'))\n",
    "print(classification_report(y_dev, y_dev_pred))"
   ]
  },
  {
   "cell_type": "markdown",
   "metadata": {},
   "source": [
    "### Tree Classifier ermittlung bester clf und tree Params (GridSearchCV)\n",
    "\n",
    "- Zum genauen testen aller Kombinationen der angegebenen tfidf und clf Parametern, um die mit dem besten F1 Wert zu finden\n",
    "- Verwendung Pipelin um TF-IDF-Vektorisierung und TreeClassifier zu vereinheitlichen\n",
    "\n",
    "\n",
    "Erklärungen Paramerter:\n",
    "    Params TfidfVectorizer:\n",
    "        - tfidf__max_df: Maximale Häufigkeit eines Begriffs in Dokumenten.\n",
    "        - tfidf__min_df: Minimale Häufigkeit eines Begriffs in Dokumenten.\n",
    "        - tfidf__max_features: Maximale Anzahl der zu extrahierenden Begriffe.\n",
    "        - tfidf__sublinear_tf eine Möglichkeit, die Bedeutung häufiger Begriffe in den Dokumenten zu dämpfen\n",
    "        - clf__max_depth: Maximale Tiefe des Entscheidungsbaums.\n",
    "        - clf__min_samples_split: Minimale Anzahl an Proben, um einen Knoten zu teilen.\n",
    "        - clf__criterion: Bewertungsfunktion für den Entscheidungsbaum. (entropy:feiner; gini:grober)\n",
    "        - clf__min_samples_leaf: Minimale Anzahl an Proben in einem Blatt des Entscheidungsbaums.\n",
    "    \n",
    "    Params RandomizedSearchCV:\n",
    "        - CV: Technik, um die Leistung eines Modells besser zu bewerten und Überanpassung (Overfitting) zu vermeiden. Dabei wird der verfügbare Datensatz in mehrere Teile (sogenannte Folds) aufgeteilt, und das Modell wird mehrfach trainiert und getestet."
   ]
  },
  {
   "cell_type": "code",
   "execution_count": 3,
   "metadata": {},
   "outputs": [],
   "source": [
    "def calculate_f1_macro_grid(train_file, test_file):\n",
    "\n",
    "    (X_train, y_train), (X_test, y_test), (X_dev, y_dev) = prepare_data(train_file, test_file)\n",
    "\n",
    "    pipeline = Pipeline([\n",
    "    ('tfidf', TfidfVectorizer(\n",
    "        max_df=0.8,\n",
    "        min_df=2,\n",
    "        ngram_range=(1, 1), #TODO Anpassen für kontext => bisher (1,1) bestes Ergebnis\n",
    "        stop_words='english',\n",
    "        max_features=5000\n",
    "    )),\n",
    "    ('clf', DecisionTreeClassifier(random_state=42))\n",
    "    ])\n",
    "\n",
    "    # param_grid = {\n",
    "    #     'tfidf__max_df': [0.05, 0.1, 0.15, 0.3],             \n",
    "    #     'tfidf__min_df': [1, 2],                 \n",
    "    #     'tfidf__max_features': [4500, 5000, 5600], \n",
    "    #     'tfidf__sublinear_tf': [True, False],           \n",
    "    #     'clf__min_samples_split': [2, 3],           \n",
    "    #     'clf__min_samples_leaf': [1, 2],            \n",
    "    #     'clf__max_depth': [130, 190, 200],        \n",
    "    #     'clf__criterion': ['gini'],          \n",
    "    # }\n",
    "\n",
    "    param_grid = {\n",
    "        'tfidf__max_df': [0.05, 0.1, 0.3, 0.5],             \n",
    "        'tfidf__min_df': [2],                 \n",
    "        'tfidf__max_features': [500, 2500, 5600], \n",
    "        'tfidf__sublinear_tf': [True],           \n",
    "        'clf__min_samples_split': [2],           \n",
    "        'clf__min_samples_leaf': [1],            \n",
    "        'clf__max_depth': [80, 130, 200],        \n",
    "        'clf__criterion': ['gini'],          \n",
    "    }\n",
    "\n",
    "    grid_search = GridSearchCV(\n",
    "        estimator=pipeline,\n",
    "        param_grid=param_grid,\n",
    "        cv=5,                          # 5-fache Cross-Validation\n",
    "        scoring='f1_macro',            # Optimierung auf F1-Score (macro)\n",
    "        n_jobs=-1                      # Parallele Verarbeitung\n",
    "    )\n",
    "\n",
    "    grid_search.fit(X_train, y_train)\n",
    "\n",
    "    best_params = grid_search.best_params_\n",
    "    best_pipeline = grid_search.best_estimator_\n",
    "\n",
    "    y_dev_pred = best_pipeline.predict(X_dev)\n",
    "    \n",
    "    f1_macro = f1_score(y_dev, y_dev_pred, average='macro')\n",
    "    precision_macro = precision_score(y_dev, y_dev_pred, average='macro')\n",
    "    recall_macro = recall_score(y_dev, y_dev_pred, average='macro')\n",
    "    report = classification_report(y_dev, y_dev_pred)\n",
    "    return f1_macro, precision_macro, recall_macro, report, best_pipeline, X_test, y_test, best_params"
   ]
  },
  {
   "cell_type": "markdown",
   "metadata": {},
   "source": [
    "### calculate_f1_macro_grid() Methode zum berechnen des Tree Classifier mit Vektor (ohne Search)\n",
    "- Zum testen der momentan besten Parameter \n",
    "- Parameter müssen direkt in Methode eintragen werden"
   ]
  },
  {
   "cell_type": "code",
   "execution_count": 49,
   "metadata": {},
   "outputs": [
    {
     "name": "stdout",
     "output_type": "stream",
     "text": [
      "Beste Parameter: {'clf__criterion': 'gini', 'clf__max_depth': 130, 'clf__min_samples_leaf': 1, 'clf__min_samples_split': 2, 'tfidf__max_df': 0.05, 'tfidf__max_features': 500, 'tfidf__min_df': 2, 'tfidf__sublinear_tf': True}\n",
      "F1-Score:  0.6612402882070829\n",
      "Precision:  0.6865728220419296\n",
      "Recall:  0.6564946018893387\n",
      "Report:                precision    recall  f1-score   support\n",
      "\n",
      "           0       0.46      0.68      0.55        78\n",
      "           1       0.86      0.81      0.83        95\n",
      "           2       0.90      0.65      0.76        95\n",
      "           3       0.53      0.48      0.50        60\n",
      "\n",
      "    accuracy                           0.67       328\n",
      "   macro avg       0.69      0.66      0.66       328\n",
      "weighted avg       0.72      0.67      0.68       328\n",
      "\n"
     ]
    }
   ],
   "source": [
    "train_file = \"preprocessed/dataLemmaLowerStop_train.csv\"\n",
    "test_file = \"preprocessed/dataLemmaLowerStop_test.csv\"\n",
    "\n",
    "f1_macro, precision_macro, recall_macro, report, pipeline, X_test, y_test, best_params = calculate_f1_macro_grid(train_file, test_file)\n",
    "\n",
    "print(\"Beste Parameter:\", best_params)\n",
    "print(\"F1-Score: \", f1_macro)\n",
    "print(\"Precision: \", precision_macro)\n",
    "print(\"Recall: \", recall_macro)\n",
    "print(\"Report: \", report)"
   ]
  },
  {
   "cell_type": "markdown",
   "metadata": {},
   "source": [
    "### calculate_f1_macro() Methode zum berechnen des Tree Classifier mit Vektor (ohne Search)\n",
    "- Zum testen der momentan besten Parameter \n",
    "- Parameter müssen direkt in Methode eintragen werden"
   ]
  },
  {
   "cell_type": "code",
   "execution_count": 4,
   "metadata": {},
   "outputs": [],
   "source": [
    "def calculate_f1_macro(train_file, test_file):\n",
    "\n",
    "    (X_train, y_train), (X_test, y_test), (X_dev, y_dev) = prepare_data(train_file, test_file)\n",
    "\n",
    "    # Nach Probe mit dataLemmaLowerStop.csv sind das die besten Parameter \n",
    "    pipeline = Pipeline([\n",
    "        ('tfidf', TfidfVectorizer(\n",
    "            sublinear_tf=True,\n",
    "            min_df=2,\n",
    "            max_features=5600,\n",
    "            ngram_range=(1, 1),\n",
    "            max_df=0.05,\n",
    "            stop_words='english'\n",
    "        )),\n",
    "        ('clf', DecisionTreeClassifier(\n",
    "            random_state=42,\n",
    "            min_samples_split=2,\n",
    "            min_samples_leaf=1,\n",
    "            max_depth=200,\n",
    "            criterion='gini'\n",
    "        ))\n",
    "    ])\n",
    "\n",
    "    pipeline.fit(X_train, y_train)\n",
    "    y_dev_pred = pipeline.predict(X_dev)\n",
    "    f1_macro = f1_score(y_dev, y_dev_pred, average='macro')\n",
    "    precision_macro = precision_score(y_dev, y_dev_pred, average='macro')\n",
    "    recall_macro = recall_score(y_dev, y_dev_pred, average='macro')\n",
    "    report = classification_report(y_dev, y_dev_pred)\n",
    "    return f1_macro, precision_macro, recall_macro, report, pipeline, X_test, y_test"
   ]
  },
  {
   "cell_type": "markdown",
   "metadata": {},
   "source": [
    "Methode calculate_f1_macro Ausführen\n",
    "- Ausgabe der f1_macro, precision_macro, recall_macro, pred werte für die in der Methode festgelegten Parameter"
   ]
  },
  {
   "cell_type": "code",
   "execution_count": 5,
   "metadata": {},
   "outputs": [
    {
     "name": "stdout",
     "output_type": "stream",
     "text": [
      "F1-Score:  0.6960569199640945\n",
      "Precision:  0.7128091328815769\n",
      "Recall:  0.6923751686909582\n",
      "Report:                precision    recall  f1-score   support\n",
      "\n",
      "           0       0.69      0.53      0.60        78\n",
      "           1       0.84      0.80      0.82        95\n",
      "           2       0.62      0.81      0.70        95\n",
      "           3       0.69      0.63      0.66        60\n",
      "\n",
      "    accuracy                           0.71       328\n",
      "   macro avg       0.71      0.69      0.70       328\n",
      "weighted avg       0.72      0.71      0.70       328\n",
      "\n"
     ]
    }
   ],
   "source": [
    "train_file = \"preprocessed/dataLemmaLowerStop_train.csv\"\n",
    "test_file = \"preprocessed/dataLemmaLowerStop_test.csv\"\n",
    "\n",
    "f1_macro, precision_macro, recall_macro, report, pipeline, X_test, y_test = calculate_f1_macro(train_file, test_file)\n",
    "\n",
    "print(\"F1-Score: \", f1_macro)\n",
    "print(\"Precision: \", precision_macro)\n",
    "print(\"Recall: \", recall_macro)\n",
    "print(\"Report: \", report)"
   ]
  },
  {
   "cell_type": "markdown",
   "metadata": {},
   "source": [
    "### Training mit festen tree u. tfidf param für alle preprocesse Dateien\n",
    "- Emittelt welche Preprocess Datei den besten F1 Score hat und gibt diesen aus"
   ]
  },
  {
   "cell_type": "code",
   "execution_count": 7,
   "metadata": {},
   "outputs": [
    {
     "name": "stdout",
     "output_type": "stream",
     "text": [
      "[###...............................................] 7.69% (1/13)"
     ]
    },
    {
     "name": "stderr",
     "output_type": "stream",
     "text": [
      "/home/dominik/vs-workspace/WiSe24/KI/projekt-git-abgabe/KI-Python/.venv/lib/python3.12/site-packages/numpy/ma/core.py:2820: RuntimeWarning: invalid value encountered in cast\n",
      "  _data = np.array(data, dtype=dtype, copy=copy,\n"
     ]
    },
    {
     "name": "stdout",
     "output_type": "stream",
     "text": [
      "[##################################################] 100.00% (13/13)\n",
      "Ergebnisse:\n",
      "\n",
      "Top 5 Ergebnisse:\n",
      "                                  Train-Datei Test-Datei  F1-Score  Precision  \\\n",
      "2   preprocessed/dataLemmaLowerStop_train.csv        NaN  0.696057   0.712809   \n",
      "12            preprocessed/dataStop_train.csv        NaN  0.667796   0.682991   \n",
      "11           preprocessed/dataLower_train.csv        NaN  0.667796   0.682991   \n",
      "8           preprocessed/dataNormal_train.csv        NaN  0.662322   0.684559   \n",
      "7            preprocessed/dataKurze_train.csv        NaN  0.649586   0.661274   \n",
      "10           preprocessed/dataSpace_train.csv        NaN  0.638856   0.654078   \n",
      "1            preprocessed/dataLemma_train.csv        NaN  0.638856   0.654078   \n",
      "3          preprocessed/dataUrlMail_train.csv        NaN  0.634925   0.655200   \n",
      "5    preprocessed/dataSonderzeichen_train.csv        NaN  0.625765   0.636579   \n",
      "4            preprocessed/dataKombi_train.csv        NaN  0.619481   0.629501   \n",
      "\n",
      "      Recall                                        Best Params  \\\n",
      "2   0.692375  {'clf__criterion': 'gini', 'clf__max_depth': 2...   \n",
      "12  0.666768  {'clf__criterion': 'gini', 'clf__max_depth': 2...   \n",
      "11  0.666768  {'clf__criterion': 'gini', 'clf__max_depth': 2...   \n",
      "8   0.659042  {'clf__criterion': 'gini', 'clf__max_depth': 2...   \n",
      "7   0.647986  {'clf__criterion': 'gini', 'clf__max_depth': 2...   \n",
      "10  0.636319  {'clf__criterion': 'gini', 'clf__max_depth': 2...   \n",
      "1   0.636319  {'clf__criterion': 'gini', 'clf__max_depth': 2...   \n",
      "3   0.634558  {'clf__criterion': 'gini', 'clf__max_depth': 2...   \n",
      "5   0.625607  {'clf__criterion': 'gini', 'clf__max_depth': 2...   \n",
      "4   0.617375  {'clf__criterion': 'gini', 'clf__max_depth': 2...   \n",
      "\n",
      "                                             Pipeline  \\\n",
      "2   (TfidfVectorizer(max_df=0.05, max_features=560...   \n",
      "12  (TfidfVectorizer(max_df=0.05, max_features=560...   \n",
      "11  (TfidfVectorizer(max_df=0.05, max_features=560...   \n",
      "8   (TfidfVectorizer(max_df=0.05, max_features=560...   \n",
      "7   (TfidfVectorizer(max_df=0.05, max_features=250...   \n",
      "10  (TfidfVectorizer(max_df=0.05, max_features=250...   \n",
      "1   (TfidfVectorizer(max_df=0.05, max_features=250...   \n",
      "3   (TfidfVectorizer(max_df=0.05, max_features=560...   \n",
      "5   (TfidfVectorizer(max_df=0.05, max_features=250...   \n",
      "4   (TfidfVectorizer(max_df=0.1, max_features=5600...   \n",
      "\n",
      "                                               X_test  \\\n",
      "2   122    ' i\\'m afraid i\\'m kill .       don\\'t ...   \n",
      "12  110    yes understanding majority islamic law ...   \n",
      "11  110    yes understanding majority islamic law ...   \n",
      "8   122    ' I\\'m afraid I\\'m going to have to kil...   \n",
      "7   110    Yes, argument that sole purpose death p...   \n",
      "10  122    ' I\\'m afraid I\\'m go to have to kill y...   \n",
      "1   122    ' I\\'m afraid I\\'m go to have to kill y...   \n",
      "3   110    Yes, argument that sole purpose death p...   \n",
      "5   122    ' I'm afraid I'm go to have to kill you...   \n",
      "4   78     alternative scout unacceptable reason r...   \n",
      "\n",
      "                                               y_test  \n",
      "2   122    0\n",
      "440    1\n",
      "138    1\n",
      "616    0\n",
      "593    1\n",
      " ...  \n",
      "12  110    0\n",
      "451    1\n",
      "155    1\n",
      "626    0\n",
      "594    1\n",
      " ...  \n",
      "11  110    0\n",
      "451    1\n",
      "155    1\n",
      "626    0\n",
      "594    1\n",
      " ...  \n",
      "8   122    0\n",
      "440    1\n",
      "138    1\n",
      "616    0\n",
      "593    1\n",
      " ...  \n",
      "7   110    0\n",
      "492    1\n",
      "155    1\n",
      "337    0\n",
      "518    1\n",
      " ...  \n",
      "10  122    0\n",
      "440    1\n",
      "138    1\n",
      "616    0\n",
      "593    1\n",
      " ...  \n",
      "1   122    0\n",
      "440    1\n",
      "138    1\n",
      "616    0\n",
      "593    1\n",
      " ...  \n",
      "3   110    0\n",
      "492    1\n",
      "155    1\n",
      "337    0\n",
      "518    1\n",
      " ...  \n",
      "5   122    0\n",
      "440    1\n",
      "138    1\n",
      "616    0\n",
      "593    1\n",
      " ...  \n",
      "4   78     0\n",
      "497    1\n",
      "155    1\n",
      "406    0\n",
      "519    1\n",
      " ...  \n",
      "\n",
      "Bester F1-Score: 0.6960569199640945\n",
      "Beste Datei: preprocessed/dataLemmaLowerStop_train.csv\n",
      "Report:               precision    recall  f1-score   support\n",
      "\n",
      "           0       0.69      0.53      0.60        78\n",
      "           1       0.84      0.80      0.82        95\n",
      "           2       0.62      0.81      0.70        95\n",
      "           3       0.69      0.63      0.66        60\n",
      "\n",
      "    accuracy                           0.71       328\n",
      "   macro avg       0.71      0.69      0.70       328\n",
      "weighted avg       0.72      0.71      0.70       328\n",
      "\n"
     ]
    }
   ],
   "source": [
    "def train_on_directory(directory):\n",
    "    train_files = [os.path.join(directory, f) for f in os.listdir(directory) if 'train' in f and f.endswith('.csv')]\n",
    "    test_files = [os.path.join(directory, f) for f in os.listdir(directory) if 'test' in f and f.endswith('.csv')]\n",
    "    results = pd.DataFrame(columns=[\"Train-Datei\", \"Test-Datei\", \"F1-Score\", \"Precision\", \"Recall\"])\n",
    "    \n",
    "    best_f1 = 0\n",
    "    best_file = None\n",
    "    \n",
    "    total_files = len(train_files)\n",
    "    \n",
    "    for i, train_file in enumerate(train_files, start=1):\n",
    "        test_file = next((f for f in test_files if os.path.basename(train_file).replace('train', 'test') in f), None)\n",
    "        if not test_file:\n",
    "            print(f\"Keine passende Testdatei für {train_file} gefunden, übersprungen.\")\n",
    "            continue\n",
    "        \n",
    "        progress = (i / total_files) * 100\n",
    "        bar_length = 50\n",
    "        filled_length = int(bar_length * i // total_files)\n",
    "        bar = f\"[{'#' * filled_length}{'.' * (bar_length - filled_length)}]\"\n",
    "        sys.stdout.write(f\"\\r{bar} {progress:.2f}% ({i}/{total_files})\")\n",
    "        sys.stdout.flush()\n",
    "        \n",
    "        ##f1, precision, recall, report, pipeline,_,_ = calculate_f1_macro(train_file, test_file)\n",
    "        f1, precision, recall, report, pipeline,X_test, y_test,best_params = calculate_f1_macro_grid(train_file, test_file)\n",
    "\n",
    "\n",
    "        results = pd.concat([results, pd.DataFrame({\n",
    "            \"Train-Datei\": [train_file],\n",
    "            \"F1-Score\": [f1],\n",
    "            \"Precision\": [precision],\n",
    "            \"Recall\": [recall],\n",
    "            \"Best Params\": [best_params],\n",
    "            \"Pipeline\" :[pipeline],\n",
    "            \"X_test\" :[X_test],\n",
    "            \"y_test\" :[y_test]\n",
    "        })], ignore_index=True)\n",
    "        \n",
    "        if f1 > best_f1:\n",
    "            best_f1 = f1\n",
    "            best_file = train_file\n",
    "            best_report = report\n",
    "    \n",
    "    results = results.sort_values(by=\"F1-Score\", ascending=False)\n",
    "\n",
    "    # Extrahieren der Top-5-Zeilen\n",
    "    top_5_results = results.head(10)\n",
    "\n",
    "    # Extrahieren der Pipeline-Objekte aus der Spalte \"Pipeline\"\n",
    "    top_5_pipelines = top_5_results[\"Pipeline\"].tolist()\n",
    "    top_5_X_test = top_5_results[\"X_test\"].values  \n",
    "    top_5_y_test = top_5_results[\"y_test\"].values\n",
    "\n",
    "\n",
    "    print(\"\\nErgebnisse:\")\n",
    "    top_5 = results.head(10)\n",
    "    print(\"\\nTop 5 Ergebnisse:\")\n",
    "    print(top_5)\n",
    "\n",
    "    print(f\"\\nBester F1-Score: {best_f1}\")\n",
    "    print(f\"Beste Datei: {best_file}\")\n",
    "    print(f\"Report: {best_report}\")\n",
    "    return  top_5_X_test, top_5_y_test ,top_5_pipelines\n",
    "\n",
    "directory = \"preprocessed/\"\n",
    "top_5_X_test, top_5_y_test ,top_5_pipelines= train_on_directory(directory)"
   ]
  },
  {
   "cell_type": "markdown",
   "metadata": {},
   "source": [
    "### Ermittlung endgültiger F1-Score (an ungesehenen Testdaten)\n",
    "- nach Ausführung train_on_directory"
   ]
  },
  {
   "cell_type": "code",
   "execution_count": 17,
   "metadata": {},
   "outputs": [
    {
     "name": "stdout",
     "output_type": "stream",
     "text": [
      "Pipeline(steps=[('tfidf',\n",
      "                 TfidfVectorizer(max_df=0.05, max_features=2500, min_df=2,\n",
      "                                 stop_words='english', sublinear_tf=True)),\n",
      "                ('clf',\n",
      "                 DecisionTreeClassifier(max_depth=200, random_state=42))])\n",
      "F1-Score:  0.6680730844475825\n",
      "Pipeline(steps=[('tfidf',\n",
      "                 TfidfVectorizer(max_df=0.05, max_features=2500, min_df=2,\n",
      "                                 stop_words='english', sublinear_tf=True)),\n",
      "                ('clf',\n",
      "                 DecisionTreeClassifier(max_depth=200, random_state=42))])\n",
      "F1-Score:  0.631583134206078\n",
      "Pipeline(steps=[('tfidf',\n",
      "                 TfidfVectorizer(max_df=0.05, max_features=2500, min_df=2,\n",
      "                                 stop_words='english', sublinear_tf=True)),\n",
      "                ('clf',\n",
      "                 DecisionTreeClassifier(max_depth=200, random_state=42))])\n",
      "F1-Score:  0.631583134206078\n",
      "Pipeline(steps=[('tfidf',\n",
      "                 TfidfVectorizer(max_df=0.05, max_features=5600, min_df=2,\n",
      "                                 stop_words='english', sublinear_tf=True)),\n",
      "                ('clf',\n",
      "                 DecisionTreeClassifier(max_depth=200, random_state=42))])\n",
      "F1-Score:  0.6513610876995832\n",
      "Pipeline(steps=[('tfidf',\n",
      "                 TfidfVectorizer(max_df=0.05, max_features=2500, min_df=2,\n",
      "                                 stop_words='english', sublinear_tf=True)),\n",
      "                ('clf',\n",
      "                 DecisionTreeClassifier(max_depth=200, random_state=42))])\n",
      "F1-Score:  0.7081387690211219\n"
     ]
    }
   ],
   "source": [
    "for i in range(4,9):\n",
    "    y_dev_pred = top_5_pipelines[i].predict(top_5_X_test[i])\n",
    "    print(top_5_pipelines[i])\n",
    "    print(\"F1-Score: \", f1_score(top_5_y_test[i], y_dev_pred, average='macro'),)"
   ]
  },
  {
   "cell_type": "markdown",
   "metadata": {},
   "source": [
    "### Ermittlung endgültiger F1-Score (an ungesehenen Testdaten)\n",
    "- Bei Ausführung einzelner Berechnung"
   ]
  },
  {
   "cell_type": "code",
   "execution_count": 11,
   "metadata": {},
   "outputs": [
    {
     "name": "stdout",
     "output_type": "stream",
     "text": [
      "F1-Score:  0.7171292513855766\n",
      "Precision:  0.7268508327830361\n",
      "Recall:  0.7153014802281411\n",
      "              precision    recall  f1-score   support\n",
      "\n",
      "           0       0.68      0.58      0.63        77\n",
      "           1       0.88      0.78      0.83        95\n",
      "           2       0.68      0.84      0.75        95\n",
      "           3       0.67      0.66      0.66        61\n",
      "\n",
      "    accuracy                           0.73       328\n",
      "   macro avg       0.73      0.72      0.72       328\n",
      "weighted avg       0.74      0.73      0.73       328\n",
      "\n"
     ]
    }
   ],
   "source": [
    "#TODO prüfen ob alle variablen korrekt verwewdet werden\n",
    "y_dev_pred = pipeline.predict(X_test)\n",
    "print(\"F1-Score: \", f1_score(y_test, y_dev_pred, average='macro'))\n",
    "print(\"Precision: \", precision_score(y_test, y_dev_pred, average='macro'))\n",
    "print(\"Recall: \", recall_score(y_test, y_dev_pred, average='macro'))\n",
    "print(classification_report(y_test, y_dev_pred))"
   ]
  },
  {
   "cell_type": "markdown",
   "metadata": {},
   "source": [
    "### Importancewerte nach Training mit TreeClassifier ausgeben"
   ]
  },
  {
   "cell_type": "code",
   "execution_count": 1,
   "metadata": {},
   "outputs": [
    {
     "ename": "NameError",
     "evalue": "name 'pipeline' is not defined",
     "output_type": "error",
     "traceback": [
      "\u001b[0;31m---------------------------------------------------------------------------\u001b[0m",
      "\u001b[0;31mNameError\u001b[0m                                 Traceback (most recent call last)",
      "Cell \u001b[0;32mIn[1], line 1\u001b[0m\n\u001b[0;32m----> 1\u001b[0m clf \u001b[38;5;241m=\u001b[39m \u001b[43mpipeline\u001b[49m\u001b[38;5;241m.\u001b[39mnamed_steps[\u001b[38;5;124m'\u001b[39m\u001b[38;5;124mclf\u001b[39m\u001b[38;5;124m'\u001b[39m]  \n\u001b[1;32m      2\u001b[0m tfidf \u001b[38;5;241m=\u001b[39m pipeline\u001b[38;5;241m.\u001b[39mnamed_steps[\u001b[38;5;124m'\u001b[39m\u001b[38;5;124mtfidf\u001b[39m\u001b[38;5;124m'\u001b[39m]  \n\u001b[1;32m      4\u001b[0m feature_names \u001b[38;5;241m=\u001b[39m tfidf\u001b[38;5;241m.\u001b[39mget_feature_names_out()\n",
      "\u001b[0;31mNameError\u001b[0m: name 'pipeline' is not defined"
     ]
    }
   ],
   "source": [
    "clf = pipeline.named_steps['clf']  \n",
    "tfidf = pipeline.named_steps['tfidf']  \n",
    "\n",
    "feature_names = tfidf.get_feature_names_out()\n",
    "\n",
    "importances = clf.feature_importances_\n",
    "\n",
    "importance_df = pd.DataFrame({\n",
    "    'Feature': feature_names,\n",
    "    'Importance': importances\n",
    "}).sort_values(by='Importance', ascending=False)\n",
    "\n",
    "print(\"Wichtigste Features:\")\n",
    "print(importance_df.head(25))\n",
    "\n",
    "importance_df.head(10).plot(kind=\"bar\", x=\"Feature\", y=\"Importance\", legend=False)\n",
    "plt.title(\"Top 10 wichtige Features im Entscheidungsbaum\")\n",
    "plt.show()"
   ]
  },
  {
   "cell_type": "markdown",
   "metadata": {},
   "source": [
    "### Importancewerte Top5 to csv"
   ]
  },
  {
   "cell_type": "code",
   "execution_count": null,
   "metadata": {},
   "outputs": [],
   "source": [
    "# Iteriere durch die Top 5 Pipelines\n",
    "for i in range(5,10):\n",
    "    clf = top_5_pipelines[i].named_steps['clf']\n",
    "    tfidf = top_5_pipelines[i].named_steps['tfidf']\n",
    "\n",
    "    feature_names = tfidf.get_feature_names_out()\n",
    "\n",
    "    importances = clf.feature_importances_\n",
    "\n",
    "\n",
    "    importance_df = pd.DataFrame({\n",
    "        'Feature': feature_names,\n",
    "        'Importance': importances\n",
    "    }).sort_values(by='Importance', ascending=False)\n",
    "\n",
    "    importance_df.to_csv(f'tfidfWords/top_{i+1}_feature_importance.csv', index=False)\n"
   ]
  },
  {
   "cell_type": "markdown",
   "metadata": {},
   "source": [
    "### Optional: Speichern TFIDF-Matrix in csv\n",
    "- TODO: DataTrain public machen"
   ]
  },
  {
   "cell_type": "code",
   "execution_count": null,
   "metadata": {},
   "outputs": [],
   "source": [
    "tfidf = pipeline.named_steps['tfidf']\n",
    "\n",
    "tfidf_matrix = tfidf.transform(X_train)\n",
    "\n",
    "tfidf_df = pd.DataFrame(\n",
    "    tfidf_matrix.toarray(), \n",
    "    columns=tfidf.get_feature_names_out()\n",
    ")\n",
    "\n",
    "tfidf_df.to_csv(\"tfidf_matrix.csv\", index=False, sep=';')\n",
    "print(\"TF-IDF-Matrix wurde gespeichert.\")\n",
    "\n",
    "print(tfidf_df.head())\n",
    "\n",
    "\n",
    "data_train['average_tfidf'] = tfidf_matrix.mean(axis=1)\n",
    "average_per_class = data_train.groupby('group')['average_tfidf'].mean()\n",
    "print(\"\\nDurchschnittliche TF-IDF-Werte pro Klasse:\\n\", average_per_class)"
   ]
  },
  {
   "cell_type": "markdown",
   "metadata": {},
   "source": [
    "### Optional: Histogramm Verteilung der TF-IDF-Werte plotten"
   ]
  },
  {
   "cell_type": "code",
   "execution_count": null,
   "metadata": {},
   "outputs": [],
   "source": [
    "tfidf_values = tfidf_df.values.flatten()\n",
    "\n",
    "plt.hist(tfidf_values, bins=50, color='blue', edgecolor='black', alpha=0.7)\n",
    "plt.title(\"Häufigkeitsverteilung der TF-IDF-Werte\")\n",
    "plt.xlabel(\"TF-IDF-Wert\")\n",
    "plt.ylabel(\"Häufigkeit\")\n",
    "plt.yscale('log')  \n",
    "plt.show()"
   ]
  },
  {
   "cell_type": "markdown",
   "metadata": {},
   "source": [
    "### Optional: Entscheidungsbaum ploten"
   ]
  },
  {
   "cell_type": "code",
   "execution_count": null,
   "metadata": {},
   "outputs": [],
   "source": [
    "clf = pipeline.named_steps['clf']  \n",
    "tfidf = pipeline.named_steps['tfidf']  \n",
    "\n",
    "\n",
    "plt.figure(figsize=(50,50))\n",
    "tree.plot_tree(clf,feature_names=list(tfidf.get_feature_names_out()), fontsize=10, max_depth=3)"
   ]
  }
 ],
 "metadata": {
  "kernelspec": {
   "display_name": ".venv",
   "language": "python",
   "name": "python3"
  },
  "language_info": {
   "codemirror_mode": {
    "name": "ipython",
    "version": 3
   },
   "file_extension": ".py",
   "mimetype": "text/x-python",
   "name": "python",
   "nbconvert_exporter": "python",
   "pygments_lexer": "ipython3",
   "version": "3.12.3"
  }
 },
 "nbformat": 4,
 "nbformat_minor": 2
}
