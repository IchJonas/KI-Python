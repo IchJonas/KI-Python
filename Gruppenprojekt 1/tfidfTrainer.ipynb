{
 "cells": [
  {
   "cell_type": "code",
   "execution_count": 15,
   "metadata": {},
   "outputs": [],
   "source": [
    "# Standard-Bibliotheken\n",
    "import warnings\n",
    "import pandas as pd\n",
    "import matplotlib.pyplot as plt\n",
    "\n",
    "# Scikit-learn: Modellselektion und Validierung\n",
    "from sklearn.model_selection import train_test_split\n",
    "from sklearn.model_selection import RandomizedSearchCV\n",
    "from sklearn.model_selection import GridSearchCV\n",
    "\n",
    "# Scikit-learn: Feature-Engineering\n",
    "from sklearn.feature_extraction.text import TfidfVectorizer\n",
    "\n",
    "# Scikit-learn: Modelle\n",
    "from sklearn.tree import DecisionTreeClassifier\n",
    "from sklearn.tree import plot_tree\n",
    "\n",
    "\n",
    "# Scikit-learn: Metriken\n",
    "from sklearn.metrics import classification_report\n",
    "from sklearn.metrics import precision_score\n",
    "from sklearn.metrics import recall_score\n",
    "from sklearn.metrics import f1_score\n",
    "\n",
    "# Scikit-learn: Pipeline\n",
    "from sklearn.pipeline import Pipeline\n",
    "\n",
    "# Warnungen ignorieren\n",
    "warnings.simplefilter(action='ignore', category=FutureWarning)"
   ]
  },
  {
   "cell_type": "markdown",
   "metadata": {},
   "source": [
    "### OPT 1: Laden Preprocess datei (Daten Test u. Train seperat)\n",
    "- inkl. Aufteilung X_train, X_test, y_train, y_test, X_dev, y_dev"
   ]
  },
  {
   "cell_type": "code",
   "execution_count": 9,
   "metadata": {},
   "outputs": [
    {
     "name": "stdout",
     "output_type": "stream",
     "text": [
      "(2624,)\n",
      "(2624,)\n",
      "(328,)\n",
      "(328,)\n",
      "(328,)\n",
      "(328,)\n"
     ]
    }
   ],
   "source": [
    "data_train = pd.read_csv(\"preprocessed/dataLemmaLowerStop_train.csv\", on_bad_lines='skip', sep=';')\n",
    "data_test = pd.read_csv(\"preprocessed/dataLemmaLowerStop_test.csv\", on_bad_lines='skip', sep=';')\n",
    "\n",
    "X_train = data_train['text']\n",
    "y_train = data_train['group']\n",
    "X_test =  data_test['text']\n",
    "y_test = data_test['group']\n",
    "\n",
    "X_test, X_dev, y_test, y_dev = train_test_split(\n",
    "    X_test, y_test, test_size=0.5, random_state=42, stratify=y_test\n",
    ")\n",
    "\n",
    "print(X_train.shape)\n",
    "print(y_train.shape)\n",
    "print(X_test.shape)\n",
    "print(y_test.shape)\n",
    "print(X_dev.shape)\n",
    "print(y_dev.shape)\n"
   ]
  },
  {
   "cell_type": "markdown",
   "metadata": {},
   "source": [
    "### OPT 2: Laden Preprocess datei (Daten Test u. Train zsm.)\n",
    "- inkl. Aufteilung X_train, X_test, y_train, y_test, X_dev, y_dev"
   ]
  },
  {
   "cell_type": "code",
   "execution_count": null,
   "metadata": {},
   "outputs": [],
   "source": [
    "data = pd.read_csv(\"preprocessed/dataLemmaLowerStop.csv\", on_bad_lines='skip', sep=';')\n",
    "data = data.iloc[:,1:3]\n",
    "\n",
    "X_train, X_test, y_train, y_test = train_test_split(\n",
    "    data['text'], data['group'], test_size=0.2, random_state=42, stratify=data['group']\n",
    ")\n",
    "\n",
    "X_test, X_dev, y_test, y_dev = train_test_split(\n",
    "    X_test, y_test, test_size=0.5, random_state=42, stratify=y_test\n",
    ")\n",
    "\n",
    "print(X_train.shape)\n",
    "print(y_train.shape)\n",
    "print(X_test.shape)\n",
    "print(y_test.shape)\n",
    "print(X_dev.shape)\n",
    "print(y_dev.shape)"
   ]
  },
  {
   "cell_type": "markdown",
   "metadata": {},
   "source": [
    "### OPT 3: Laden 20newgroups unprocessed\n",
    "- inkl. Aufteilung X_train, X_test, y_train, y_test, X_dev, y_dev"
   ]
  },
  {
   "cell_type": "code",
   "execution_count": null,
   "metadata": {},
   "outputs": [],
   "source": [
    "data = pd.read_csv(\"20 newsgroups/20newsgroups.csv\", on_bad_lines='skip', sep=';')\n",
    "data = data.dropna()\n",
    "data = data.drop_duplicates()\n",
    "data = data.iloc[:,1:3]\n",
    "\n",
    "X_train, X_test, y_train, y_test = train_test_split(\n",
    "    data['text'], data['group'], test_size=0.2, random_state=42, stratify=data['group']\n",
    ")\n",
    "\n",
    "X_test, X_dev, y_test, y_dev = train_test_split(\n",
    "    X_test, y_test, test_size=0.5, random_state=42, stratify=y_test\n",
    ")\n",
    "\n",
    "print(X_train.shape)\n",
    "print(y_train.shape)\n",
    "print(X_test.shape)\n",
    "print(y_test.shape)\n",
    "print(X_dev.shape)\n",
    "print(y_dev.shape)"
   ]
  },
  {
   "cell_type": "markdown",
   "metadata": {},
   "source": [
    "### Tree Classifier ermittlung bester clf und tree Params (GridSearchCV)\n",
    "\n",
    "Erklärung params:\n",
    "- tfidf__max_df: Maximale Häufigkeit eines Begriffs in Dokumenten.\n",
    "- tfidf__min_df: Minimale Häufigkeit eines Begriffs in Dokumenten.\n",
    "- tfidf__max_features: Maximale Anzahl der zu extrahierenden Begriffe.\n",
    "- tfidf__sublinear_tf eine Möglichkeit, die Bedeutung häufiger Begriffe in den Dokumenten zu dämpfen\n",
    "- clf__max_depth: Maximale Tiefe des Entscheidungsbaums.\n",
    "- clf__min_samples_split: Minimale Anzahl an Proben, um einen Knoten zu teilen.\n",
    "- clf__criterion: Bewertungsfunktion für den Entscheidungsbaum. (entropy:feiner; gini:grober)\n",
    "- clf__min_samples_leaf: Minimale Anzahl an Proben in einem Blatt des Entscheidungsbaums."
   ]
  },
  {
   "cell_type": "code",
   "execution_count": null,
   "metadata": {},
   "outputs": [],
   "source": [
    "pipeline = Pipeline([\n",
    "    ('tfidf', TfidfVectorizer(\n",
    "        max_df=0.8,\n",
    "        min_df=2,\n",
    "        ngram_range=(1, 2), #TODO Anpassen für kontext => bisher (1,1) bestes Ergebnis\n",
    "        stop_words='english',\n",
    "        max_features=5000\n",
    "    )),\n",
    "    ('clf', DecisionTreeClassifier(random_state=42))\n",
    "])\n",
    "\n",
    "param_grid = {\n",
    "    'tfidf__max_df': [0.1, 0.2, 0.3],              # Unterschiedliche max_df-Werte testen\n",
    "    'tfidf__min_df': [1, 2, 3, 5],                 # Tests mit mehr Flexibilität bei min_df\n",
    "    'tfidf__max_features': [4000, 5000, 6000], # Variationen bei max_features\n",
    "    'tfidf__sublinear_tf': [True, False],           # Sublineare Gewichtung vs. regulär\n",
    "    'clf__min_samples_split': [2, 5, 10],           # Weitere Werte für min_samples_split\n",
    "    'clf__min_samples_leaf': [1, 5, 10],            # Tests für min_samples_leaf\n",
    "    'clf__max_depth': [100, 150, 200],        # Weitere Tests für Baumtiefe\n",
    "    'clf__criterion': ['entropy'],          # Unterschiedliche Kriterien für Aufteilung\n",
    "}\n",
    "\n",
    "grid_search = GridSearchCV(\n",
    "    estimator=pipeline,\n",
    "    param_grid=param_grid,\n",
    "    cv=5,                          # 5-fache Cross-Validation\n",
    "    scoring='f1_macro',            # Optimierung auf F1-Score (macro)\n",
    "    n_jobs=-1                      # Parallele Verarbeitung\n",
    ")\n",
    "\n",
    "grid_search.fit(X_train, y_train)\n",
    "\n",
    "best_params = grid_search.best_params_\n",
    "print(\"Beste Parameter:\", best_params)\n",
    "\n",
    "best_pipeline = grid_search.best_estimator_\n",
    "\n",
    "y_dev_pred = best_pipeline.predict(X_dev)\n",
    "\n",
    "print(\"F1-Score: \", f1_score(y_dev, y_dev_pred, average='macro'))\n",
    "print(\"Precision: \", precision_score(y_dev, y_dev_pred, average='macro'))\n",
    "print(\"Recall: \", recall_score(y_dev, y_dev_pred, average='macro'))\n",
    "print(classification_report(y_dev, y_dev_pred))"
   ]
  },
  {
   "cell_type": "markdown",
   "metadata": {},
   "source": [
    "### Tree Classifier ermittlung bester clf und tree Params (RandomizedSearchCV)\n",
    "\n",
    "Erklärung params:\n",
    "- tfidf__max_df: Maximale Häufigkeit eines Begriffs in Dokumenten.\n",
    "- tfidf__min_df: Minimale Häufigkeit eines Begriffs in Dokumenten.\n",
    "- tfidf__max_features: Maximale Anzahl der zu extrahierenden Begriffe.\n",
    "- tfidf__sublinear_tf eine Möglichkeit, die Bedeutung häufiger Begriffe in den Dokumenten zu dämpfen\n",
    "- clf__max_depth: Maximale Tiefe des Entscheidungsbaums.\n",
    "- clf__min_samples_split: Minimale Anzahl an Proben, um einen Knoten zu teilen.\n",
    "- clf__criterion: Bewertungsfunktion für den Entscheidungsbaum. (entropy:feiner; gini:grober)\n",
    "- clf__min_samples_leaf: Minimale Anzahl an Proben in einem Blatt des Entscheidungsbaums.\n"
   ]
  },
  {
   "cell_type": "code",
   "execution_count": null,
   "metadata": {},
   "outputs": [],
   "source": [
    "pipeline = Pipeline([\n",
    "    ('tfidf', TfidfVectorizer(\n",
    "        max_df=0.8,\n",
    "        min_df=2,\n",
    "        ngram_range=(1, 2),\n",
    "        stop_words='english',\n",
    "        max_features=5000\n",
    "    )),\n",
    "    ('clf', DecisionTreeClassifier(random_state=42))\n",
    "])\n",
    "\n",
    "param_distributions = {\n",
    "    'tfidf__max_df': [0.1, 0.2, 0.5, 0.7, 0.8, 0.9],\n",
    "    'tfidf__min_df': [1, 2, 5, 10],\n",
    "    'tfidf__max_features': [500, 5000, 10000, 15000, None],\n",
    "    'tfidf__sublinear_tf': [True, False],\n",
    "    'clf__max_depth': [None, 50, 100, 200],\n",
    "    'clf__min_samples_split': [2, 5, 10],\n",
    "    'clf__criterion': ['gini', 'entropy'],\n",
    "    'clf__min_samples_leaf': [1, 5, 10]\n",
    "}\n",
    "\n",
    "random_search = RandomizedSearchCV(\n",
    "    estimator=pipeline,\n",
    "    param_distributions=param_distributions,\n",
    "    n_iter=400,                    # Anzahl der zu testenden Kombinationen\n",
    "    cv=5,                         # 5-fache Cross-Validation\n",
    "    scoring='f1_macro',           # Optimierung auf F1-Score (macro)\n",
    "    random_state=42,              # Zufälligkeit kontrollieren\n",
    "    n_jobs=-1                     # Parallele Verarbeitung\n",
    ")\n",
    "\n",
    "random_search.fit(X_train, y_train)\n",
    "\n",
    "best_params = random_search.best_params_\n",
    "print(\"Beste Parameter:\", best_params)\n",
    "\n",
    "best_pipeline = random_search.best_estimator_\n",
    "\n",
    "y_dev_pred = pipeline.predict(X_dev)\n",
    "\n",
    "print(\"F1-Score: \", f1_score(y_dev, y_dev_pred, average='macro'))\n",
    "print(\"Precision: \", precision_score(y_dev, y_dev_pred, average='macro'))\n",
    "print(\"Recall: \", recall_score(y_dev, y_dev_pred, average='macro'))\n",
    "print(classification_report(y_dev, y_dev_pred))"
   ]
  },
  {
   "cell_type": "markdown",
   "metadata": {},
   "source": [
    "## Tree Classifier mit Vektor trainieren (ohne Search)\n",
    "- Zum testen der momentan besten durch "
   ]
  },
  {
   "cell_type": "code",
   "execution_count": 10,
   "metadata": {},
   "outputs": [
    {
     "name": "stdout",
     "output_type": "stream",
     "text": [
      "F1-Score:  0.6960569199640945\n",
      "Precision:  0.7128091328815769\n",
      "Recall:  0.6923751686909582\n",
      "              precision    recall  f1-score   support\n",
      "\n",
      "           0       0.69      0.53      0.60        78\n",
      "           1       0.84      0.80      0.82        95\n",
      "           2       0.62      0.81      0.70        95\n",
      "           3       0.69      0.63      0.66        60\n",
      "\n",
      "    accuracy                           0.71       328\n",
      "   macro avg       0.71      0.69      0.70       328\n",
      "weighted avg       0.72      0.71      0.70       328\n",
      "\n"
     ]
    }
   ],
   "source": [
    "pipeline = Pipeline([\n",
    "    ('tfidf', TfidfVectorizer(\n",
    "        sublinear_tf=True,       # Logarithmische Gewichtung der TF\n",
    "        min_df=2,                # Ignoriere Wörter, die weniger als 2-mal vorkommen\n",
    "        max_features=5600,       # Maximal 5000 Features verwenden\n",
    "        ngram_range=(1, 1),  # Anpassen für Kontext\n",
    "        max_df=0.05,              # Ignoriere häufige Wörter, die mehr als 10% der Dokumente erscheinen\n",
    "        stop_words='english'     # Stoppwörter entfernen\n",
    "    )),\n",
    "    ('clf', DecisionTreeClassifier(\n",
    "        random_state=42,         # Zufälligkeit kontrollieren\n",
    "        min_samples_split=2,     # Mindestens 2 Proben für eine Aufteilung\n",
    "        min_samples_leaf=1,      # Mindestens 1 Probe im Blatt\n",
    "        max_depth=200,           # Maximale Tiefe des Entscheidungsbaums\n",
    "        criterion='gini'         # Gini-Kriterium für die Baumaufteilung\n",
    "    ))\n",
    "])\n",
    "\n",
    "pipeline.fit(X_train, y_train)\n",
    "\n",
    "y_dev_pred = pipeline.predict(X_dev)\n",
    "\n",
    "print(\"F1-Score: \", f1_score(y_dev, y_dev_pred, average='macro'))\n",
    "print(\"Precision: \", precision_score(y_dev, y_dev_pred, average='macro'))\n",
    "print(\"Recall: \", recall_score(y_dev, y_dev_pred, average='macro'))\n",
    "print(classification_report(y_dev, y_dev_pred))"
   ]
  },
  {
   "cell_type": "markdown",
   "metadata": {},
   "source": [
    "### Ermittlung endgültiger F1-Score (an ungesehenen Testdaten)"
   ]
  },
  {
   "cell_type": "code",
   "execution_count": 12,
   "metadata": {},
   "outputs": [
    {
     "name": "stdout",
     "output_type": "stream",
     "text": [
      "F1-Score:  0.7171292513855766\n",
      "Precision:  0.7268508327830361\n",
      "Recall:  0.7153014802281411\n",
      "              precision    recall  f1-score   support\n",
      "\n",
      "           0       0.68      0.58      0.63        77\n",
      "           1       0.88      0.78      0.83        95\n",
      "           2       0.68      0.84      0.75        95\n",
      "           3       0.67      0.66      0.66        61\n",
      "\n",
      "    accuracy                           0.73       328\n",
      "   macro avg       0.73      0.72      0.72       328\n",
      "weighted avg       0.74      0.73      0.73       328\n",
      "\n"
     ]
    }
   ],
   "source": [
    "y_dev_pred = pipeline.predict(X_test)\n",
    "print(\"F1-Score: \", f1_score(y_test, y_dev_pred, average='macro'))\n",
    "print(\"Precision: \", precision_score(y_test, y_dev_pred, average='macro'))\n",
    "print(\"Recall: \", recall_score(y_test, y_dev_pred, average='macro'))\n",
    "print(classification_report(y_test, y_dev_pred))"
   ]
  },
  {
   "cell_type": "markdown",
   "metadata": {},
   "source": [
    "### Importancewerte nach Training mit TreeClassifier ausgeben"
   ]
  },
  {
   "cell_type": "code",
   "execution_count": 21,
   "metadata": {},
   "outputs": [
    {
     "name": "stdout",
     "output_type": "stream",
     "text": [
      "Wichtigste Features:\n",
      "        Feature  Importance\n",
      "3588      orbit    0.041607\n",
      "2096     format    0.035055\n",
      "626     atheist    0.030518\n",
      "4556    shuttle    0.025961\n",
      "1033  christian    0.023996\n",
      "2417         hi    0.023444\n",
      "2282   graphics    0.022445\n",
      "191          3d    0.017801\n",
      "1115      color    0.017194\n",
      "2932     launch    0.016404\n"
     ]
    },
    {
     "data": {
      "image/png": "[encoded data removed]",
      "text/plain": [
       "<Figure size 640x480 with 1 Axes>"
      ]
     },
     "metadata": {},
     "output_type": "display_data"
    }
   ],
   "source": [
    "clf = pipeline.named_steps['clf']  \n",
    "tfidf = pipeline.named_steps['tfidf']  \n",
    "\n",
    "feature_names = tfidf.get_feature_names_out()\n",
    "\n",
    "importances = clf.feature_importances_\n",
    "\n",
    "importance_df = pd.DataFrame({\n",
    "    'Feature': feature_names,\n",
    "    'Importance': importances\n",
    "}).sort_values(by='Importance', ascending=False)\n",
    "\n",
    "print(\"Wichtigste Features:\")\n",
    "print(importance_df.head(10))\n",
    "\n",
    "importance_df.head(10).plot(kind=\"bar\", x=\"Feature\", y=\"Importance\", legend=False)\n",
    "plt.title(\"Top 10 wichtige Features im Entscheidungsbaum\")\n",
    "plt.show()"
   ]
  },
  {
   "cell_type": "markdown",
   "metadata": {},
   "source": [
    "### Optional: Speichern TFIDF-Matrix in csv\n"
   ]
  },
  {
   "cell_type": "code",
   "execution_count": null,
   "metadata": {},
   "outputs": [],
   "source": [
    "tfidf = pipeline.named_steps['tfidf']\n",
    "\n",
    "tfidf_matrix = tfidf.transform(X_train)\n",
    "\n",
    "tfidf_df = pd.DataFrame(\n",
    "    tfidf_matrix.toarray(), \n",
    "    columns=tfidf.get_feature_names_out()\n",
    ")\n",
    "\n",
    "tfidf_df.to_csv(\"tfidf_matrix.csv\", index=False, sep=';')\n",
    "print(\"TF-IDF-Matrix wurde gespeichert.\")\n",
    "\n",
    "print(tfidf_df.head())\n",
    "\n",
    "\n",
    "data_train['average_tfidf'] = tfidf_matrix.mean(axis=1)\n",
    "average_per_class = data_train.groupby('group')['average_tfidf'].mean()\n",
    "print(\"\\nDurchschnittliche TF-IDF-Werte pro Klasse:\\n\", average_per_class)"
   ]
  },
  {
   "cell_type": "markdown",
   "metadata": {},
   "source": [
    "### Optional: Histogramm Verteilung der TF-IDF-Werte plotten"
   ]
  },
  {
   "cell_type": "code",
   "execution_count": null,
   "metadata": {},
   "outputs": [],
   "source": [
    "tfidf_values = tfidf_df.values.flatten()\n",
    "\n",
    "plt.hist(tfidf_values, bins=50, color='blue', edgecolor='black', alpha=0.7)\n",
    "plt.title(\"Häufigkeitsverteilung der TF-IDF-Werte\")\n",
    "plt.xlabel(\"TF-IDF-Wert\")\n",
    "plt.ylabel(\"Häufigkeit\")\n",
    "plt.yscale('log')  \n",
    "plt.show()"
   ]
  },
  {
   "cell_type": "markdown",
   "metadata": {},
   "source": [
    "### Optional: Entscheidungsbaum ploten"
   ]
  },
  {
   "cell_type": "code",
   "execution_count": null,
   "metadata": {},
   "outputs": [
    {
     "ename": "NameError",
     "evalue": "name 'plt' is not defined",
     "output_type": "error",
     "traceback": [
      "\u001b[0;31m---------------------------------------------------------------------------\u001b[0m",
      "\u001b[0;31mNameError\u001b[0m                                 Traceback (most recent call last)",
      "Cell \u001b[0;32mIn[3], line 2\u001b[0m\n\u001b[1;32m      1\u001b[0m \u001b[38;5;66;03m# Entscheidungsbaum visualisieren\u001b[39;00m\n\u001b[0;32m----> 2\u001b[0m \u001b[43mplt\u001b[49m\u001b[38;5;241m.\u001b[39mfigure(figsize\u001b[38;5;241m=\u001b[39m(\u001b[38;5;241m20\u001b[39m, \u001b[38;5;241m10\u001b[39m))\n\u001b[1;32m      4\u001b[0m \u001b[38;5;66;03m# Plot des Entscheidungsbaums\u001b[39;00m\n\u001b[1;32m      5\u001b[0m plot_tree(\n\u001b[1;32m      6\u001b[0m     clf, \n\u001b[1;32m      7\u001b[0m     feature_names\u001b[38;5;241m=\u001b[39m\u001b[38;5;28mlist\u001b[39m(X_train\u001b[38;5;241m.\u001b[39mcolumns),  \u001b[38;5;66;03m# Merkmalsnamen aus X_train\u001b[39;00m\n\u001b[0;32m   (...)\u001b[0m\n\u001b[1;32m     10\u001b[0m     fontsize\u001b[38;5;241m=\u001b[39m\u001b[38;5;241m8\u001b[39m\n\u001b[1;32m     11\u001b[0m )\n",
      "\u001b[0;31mNameError\u001b[0m: name 'plt' is not defined"
     ]
    }
   ],
   "source": [
    "\n",
    "\n"
   ]
  }
 ],
 "metadata": {
  "kernelspec": {
   "display_name": ".venv",
   "language": "python",
   "name": "python3"
  },
  "language_info": {
   "codemirror_mode": {
    "name": "ipython",
    "version": 3
   },
   "file_extension": ".py",
   "mimetype": "text/x-python",
   "name": "python",
   "nbconvert_exporter": "python",
   "pygments_lexer": "ipython3",
   "version": "3.12.3"
  }
 },
 "nbformat": 4,
 "nbformat_minor": 2
}
