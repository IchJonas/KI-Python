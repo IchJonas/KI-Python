{
 "cells": [
  {
   "cell_type": "code",
   "execution_count": 14,
   "metadata": {},
   "outputs": [],
   "source": [
    "# Bibliotheken\n",
    "\n",
    "# Pandas\n",
    "import pandas \n",
    "\n",
    "# NumPy\n",
    "import numpy as np\n",
    "\n",
    "# Matplotlib\n",
    "import matplotlib \n",
    "import matplotlib.pyplot as plt\n",
    "\n",
    "# sklearn\n",
    "from sklearn.model_selection import train_test_split\n",
    "from sklearn import tree "
   ]
  },
  {
   "cell_type": "code",
   "execution_count": null,
   "metadata": {},
   "outputs": [],
   "source": [
    "data = pandas.read_csv(\"20newsgroups.csv\", on_bad_lines='skip', sep=';')\n",
    "data = data.dropna()\n",
    "data = data.iloc[:,1:3]\n",
    "max = 65000\n",
    "min = -1\n",
    "for datum in data:\n",
    "    if max > len(data['text']):\n",
    "        max = len(data['text'])\n",
    "    if()\n"
   ]
  },
  {
   "cell_type": "code",
   "execution_count": null,
   "metadata": {},
   "outputs": [
    {
     "name": "stdout",
     "output_type": "stream",
     "text": [
      "                                                   text  group\n",
      "0     'Hi,  I\\'ve noticed that if you only save a mo...      1\n",
      "1     '  Seems to be, barring evidence to the contra...      3\n",
      "2     '  >In article <1993Apr19.020359.26996@sq.sq.c...      2\n",
      "3     'I have a request for those who would like to ...      0\n",
      "4     'AW&ST  had a brief blurb on a Manned Lunar Ex...      2\n",
      "...                                                 ...    ...\n",
      "3364  'The Forever War, one of my favorite SciFi boo...      2\n",
      "3365  ' We can only say that they are beyond about 2...      2\n",
      "3366  'Astronomy & Space magazine\\'s UK telephone ne...      2\n",
      "3367  'This is an invitation to send articles to the...      1\n",
      "3369  ' I wouldn\\'t punish him with eternal torture ...      0\n",
      "\n",
      "[3280 rows x 2 columns]\n"
     ]
    }
   ],
   "source": [
    "data['text']"
   ]
  }
 ],
 "metadata": {
  "kernelspec": {
   "display_name": ".venv",
   "language": "python",
   "name": "python3"
  },
  "language_info": {
   "codemirror_mode": {
    "name": "ipython",
    "version": 3
   },
   "file_extension": ".py",
   "mimetype": "text/x-python",
   "name": "python",
   "nbconvert_exporter": "python",
   "pygments_lexer": "ipython3",
   "version": "3.12.0"
  }
 },
 "nbformat": 4,
 "nbformat_minor": 2
}
