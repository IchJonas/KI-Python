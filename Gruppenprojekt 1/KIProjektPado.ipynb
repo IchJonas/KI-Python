{
 "cells": [
  {
   "cell_type": "code",
   "execution_count": 7,
   "metadata": {},
   "outputs": [],
   "source": [
    "import spacy\n",
    "import contractions"
   ]
  },
  {
   "cell_type": "code",
   "execution_count": 9,
   "metadata": {},
   "outputs": [],
   "source": [
    "nlp = spacy.load(\"en_core_web_sm\")\n",
    "text = \"I don't love coding in Python, but sometimes it can be challenging.\""
   ]
  },
  {
   "cell_type": "markdown",
   "metadata": {},
   "source": [
    "Entfernt alle Stopwörter aus dem Text"
   ]
  },
  {
   "cell_type": "code",
   "execution_count": 10,
   "metadata": {},
   "outputs": [
    {
     "name": "stdout",
     "output_type": "stream",
     "text": [
      "I do not love coding in Python, but sometimes it can be challenging.\n"
     ]
    }
   ],
   "source": [
    "expand_text = contractions.fix(text)\n",
    "print(expand_text)"
   ]
  },
  {
   "cell_type": "code",
   "execution_count": 14,
   "metadata": {},
   "outputs": [
    {
     "name": "stdout",
     "output_type": "stream",
     "text": [
      "['love', 'coding', 'Python', ',', 'challenging', '.']\n"
     ]
    }
   ],
   "source": [
    "doc = nlp(text)\n",
    "filtered_words = [token.text for token in doc if not token.is_stop]\n",
    "print(filtered_words)"
   ]
  },
  {
   "cell_type": "markdown",
   "metadata": {},
   "source": [
    "Satzzeichen entfernen"
   ]
  },
  {
   "cell_type": "code",
   "execution_count": 12,
   "metadata": {},
   "outputs": [
    {
     "name": "stdout",
     "output_type": "stream",
     "text": [
      "['love', 'coding', 'Python', 'challenging']\n"
     ]
    }
   ],
   "source": [
    "filtered_words = [token.text for token in doc if not token.is_stop and not token.is_punct]\n",
    "print(filtered_words)"
   ]
  },
  {
   "cell_type": "markdown",
   "metadata": {},
   "source": [
    "Liste an spaCy Stopwords"
   ]
  },
  {
   "cell_type": "code",
   "execution_count": 13,
   "metadata": {},
   "outputs": [
    {
     "name": "stdout",
     "output_type": "stream",
     "text": [
      "{'done', 'myself', 'now', 'top', '’ll', 'were', 'might', 'nowhere', '’re', 'see', 'above', 'do', 'because', 'ten', 'it', 'seem', 'since', 'others', 'herself', \"'re\", 'or', '‘d', 'latterly', 'out', 'across', 'elsewhere', 'yet', 'whoever', 'hereafter', 'us', 'which', 'part', 'while', 'thereafter', 'well', '‘ve', '’ve', 'whereafter', 'within', 'much', 'seeming', 'side', 'please', 'least', 'wherever', 'who', '‘ll', 'into', 'more', 'becoming', 'n‘t', 'yours', 'mostly', 'am', 'such', 're', 'each', 'him', 'no', 'made', 'yourself', 'show', 'in', 'towards', '’m', 'about', 'are', '’d', 'they', 'off', 'behind', 'regarding', 'few', 'anyone', 'our', 'what', 'nor', 'here', 'various', 'over', 'forty', 'up', 'three', 'own', 'me', 'third', 'take', 'every', 'i', 'whither', 'being', 'a', 'again', 'his', 'moreover', 'upon', 'n’t', 'anywhere', 'other', 'keep', 'without', 'serious', 'he', 'became', 'same', 'we', 'somehow', 'indeed', 'say', 'their', 'always', 'the', 'been', 'some', 'something', 'yourselves', 'most', 'due', 'call', 'therein', 'further', 'was', 'to', 'there', 'otherwise', \"'ll\", 'them', 'among', 'between', 'be', 'she', 'does', 'under', 'sometimes', 'then', 'many', 'also', 'once', 'already', 'noone', 'several', 'name', 'mine', 'itself', 'that', 'therefore', 'did', 'beside', 'hence', 'whatever', 'than', 'so', 'any', 'make', 'had', 'less', 'ours', 'whereupon', 'should', 'whether', 'against', 'enough', 'with', 'next', 'anyhow', 'during', 'put', 'someone', 'ca', '‘re', 'seemed', 'together', 'nevertheless', \"'m\", 'wherein', 'whence', 'except', '’s', 'have', 'whose', 'bottom', 'everywhere', 'onto', 'still', 'why', 'very', 'namely', 'toward', 'only', 'nobody', 'unless', 'afterwards', 'you', 'my', 'thence', 'somewhere', 'thereby', 'formerly', 'five', 'via', 'fifteen', 'ourselves', 'another', 'around', 'hereupon', 'everyone', 'all', 'give', 'doing', 'whole', 'would', 'never', 'but', 'former', 'become', 'can', 'this', 'meanwhile', 'not', 'get', 'twenty', 'quite', 'when', 'front', 'six', 'using', 'back', 'ever', 'rather', 'either', 'besides', 'amongst', 'until', 'is', 'from', 'though', 'last', 'whereas', \"'d\", 'hereby', 'of', 'often', 'even', 'eleven', 'thus', 'could', 'becomes', 'herein', 'after', 'alone', 'empty', 'along', 'cannot', \"n't\", 'go', 'full', 'anyway', 'if', 'must', 'themselves', 'by', 'per', '‘m', '‘s', 'has', 'her', 'as', 'just', 'one', 'below', 'fifty', 'twelve', 'these', 'two', 'at', 'eight', 'before', 'hers', 'and', 'first', 'none', 'your', 'for', 'sixty', 'beyond', 'how', 'nine', 'seems', 'four', 'its', 'anything', 'those', \"'s\", 'else', 'nothing', 'used', 'throughout', 'down', 'thru', 'whereby', 'hundred', 'sometime', 'really', 'neither', 'everything', 'himself', 'where', 'beforehand', 'amount', 'move', 'perhaps', 'both', 'will', 'on', 'whom', 'almost', 'latter', 'thereupon', 'an', \"'ve\", 'whenever', 'too', 'through', 'however', 'although', 'may'}\n"
     ]
    }
   ],
   "source": [
    "stopwords = nlp.Defaults.stop_words\n",
    "print(stopwords)"
   ]
  }
 ],
 "metadata": {
  "kernelspec": {
   "display_name": "studiumKI",
   "language": "python",
   "name": "python3"
  },
  "language_info": {
   "codemirror_mode": {
    "name": "ipython",
    "version": 3
   },
   "file_extension": ".py",
   "mimetype": "text/x-python",
   "name": "python",
   "nbconvert_exporter": "python",
   "pygments_lexer": "ipython3",
   "version": "3.11.10"
  }
 },
 "nbformat": 4,
 "nbformat_minor": 2
}
