{
 "cells": [
  {
   "cell_type": "markdown",
   "metadata": {},
   "source": [
    "                                                                                                        Data Processor:                                                                                                                                    \n",
    "- Zur Verhinderung von Data Leakage: Feature werden generiert die nicht generiert werden können da die Testdaten noch nicht da sind --> sonst ist die Performance in der realen Verwendung schlechter\n",
    "- Übergabe eines Ordnernamens in dem sich die zu Teilenden Dateien befinden\n",
    "- Speichert die Dateien in dne gleichen Ordner und benennt sie in ..._train.csv und ..._test.csv"
   ]
  },
  {
   "cell_type": "code",
   "execution_count": 2,
   "metadata": {},
   "outputs": [],
   "source": [
    "from sklearn.model_selection import train_test_split\n",
    "import pandas as pd\n",
    "import os\n",
    "class DataProcessor:\n",
    "    def __init__(self, paths=\"preprocessed\", test_size=0.2, random_state=42, stratify_column=\"group\"):\n",
    "        self.folder = paths\n",
    "        self.paths = [os.path.relpath(os.path.join(paths, datei)) for datei in os.listdir(paths) if os.path.isfile(os.path.join(paths, datei))]\n",
    "        print(self.paths)\n",
    "        self.test_size = test_size\n",
    "        self.random_state = random_state\n",
    "        self.stratify_column = stratify_column\n",
    "        for path in self.paths:\n",
    "            print(path)\n",
    "            self.split_and_save(path=path)\n",
    "\n",
    "    def split_and_save(self, path):\n",
    "        try:\n",
    "            test_path = f\"{os.path.splitext(path)[0]}_test.csv\"\n",
    "            train_path = f\"{os.path.splitext(path)[0]}_train.csv\"\n",
    "\n",
    "            data = pd.read_csv(path, on_bad_lines='skip', sep=';')\n",
    "            data = data.dropna()\n",
    "            data = data.drop_duplicates()\n",
    "\n",
    "            if self.stratify_column not in data.columns:\n",
    "                raise ValueError(f\"Die Spalte '{self.stratify_column}' existiert nicht in der CSV-Datei.\")\n",
    "\n",
    "            X = data.drop(columns=[self.stratify_column])\n",
    "            y = data[self.stratify_column].values.ravel()\n",
    "\n",
    "            X_train, X_test, y_train, y_test = train_test_split(\n",
    "                X, y, test_size=self.test_size, random_state=self.random_state, stratify=y\n",
    "            )\n",
    "\n",
    "            train_data = X_train.copy()\n",
    "            train_data[self.stratify_column] = y_train\n",
    "            train_data.to_csv(train_path, index=False)\n",
    "            print(f\"Trainingsdaten gespeichert unter: {train_path}\")\n",
    "\n",
    "            test_data = X_test.copy()\n",
    "            test_data[self.stratify_column] = y_test\n",
    "            test_data.to_csv(test_path, index=False)\n",
    "            print(f\"Testdaten gespeichert unter: {test_path}\")\n",
    "\n",
    "        except FileNotFoundError:\n",
    "            print(f\"Die Datei '{self.path}' wurde nicht gefunden.\")\n",
    "        except ValueError as e:\n",
    "            print(f\"Fehler: {e}\")\n",
    "        except Exception as e:\n",
    "            print(f\"Ein unerwarteter Fehler ist aufgetreten: {e}\")"
   ]
  },
  {
   "cell_type": "code",
   "execution_count": null,
   "metadata": {},
   "outputs": [],
   "source": []
  }
 ],
 "metadata": {
  "kernelspec": {
   "display_name": "studiumKI",
   "language": "python",
   "name": "python3"
  },
  "language_info": {
   "codemirror_mode": {
    "name": "ipython",
    "version": 3
   },
   "file_extension": ".py",
   "mimetype": "text/x-python",
   "name": "python",
   "nbconvert_exporter": "python",
   "pygments_lexer": "ipython3",
   "version": "3.11.10"
  }
 },
 "nbformat": 4,
 "nbformat_minor": 2
}
