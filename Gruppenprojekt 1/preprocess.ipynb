{
 "cells": [
  {
   "cell_type": "markdown",
   "metadata": {},
   "source": [
    "Imports:"
   ]
  },
  {
   "cell_type": "code",
   "execution_count": 16,
   "metadata": {},
   "outputs": [],
   "source": [
    "import pandas as pd\n",
    "import spacy\n",
    "import re\n",
    "from spellchecker import SpellChecker\n",
    "import unicodedata\n",
    "nlp = spacy.load(\"en_core_web_sm\")"
   ]
  },
  {
   "cell_type": "code",
   "execution_count": 17,
   "metadata": {},
   "outputs": [
    {
     "data": {
      "text/html": [
       "<div>\n",
       "<style scoped>\n",
       "    .dataframe tbody tr th:only-of-type {\n",
       "        vertical-align: middle;\n",
       "    }\n",
       "\n",
       "    .dataframe tbody tr th {\n",
       "        vertical-align: top;\n",
       "    }\n",
       "\n",
       "    .dataframe thead th {\n",
       "        text-align: right;\n",
       "    }\n",
       "</style>\n",
       "<table border=\"1\" class=\"dataframe\">\n",
       "  <thead>\n",
       "    <tr style=\"text-align: right;\">\n",
       "      <th></th>\n",
       "      <th>ID</th>\n",
       "      <th>text</th>\n",
       "      <th>group</th>\n",
       "    </tr>\n",
       "  </thead>\n",
       "  <tbody>\n",
       "    <tr>\n",
       "      <th>0</th>\n",
       "      <td>0</td>\n",
       "      <td>'Hi,  I\\'ve noticed that if you only save a mo...</td>\n",
       "      <td>1</td>\n",
       "    </tr>\n",
       "    <tr>\n",
       "      <th>1</th>\n",
       "      <td>1</td>\n",
       "      <td>'  Seems to be, barring evidence to the contra...</td>\n",
       "      <td>3</td>\n",
       "    </tr>\n",
       "    <tr>\n",
       "      <th>2</th>\n",
       "      <td>2</td>\n",
       "      <td>'  &gt;In article &lt;1993Apr19.020359.26996@sq.sq.c...</td>\n",
       "      <td>2</td>\n",
       "    </tr>\n",
       "    <tr>\n",
       "      <th>3</th>\n",
       "      <td>3</td>\n",
       "      <td>'I have a request for those who would like to ...</td>\n",
       "      <td>0</td>\n",
       "    </tr>\n",
       "    <tr>\n",
       "      <th>4</th>\n",
       "      <td>4</td>\n",
       "      <td>'AW&amp;ST  had a brief blurb on a Manned Lunar Ex...</td>\n",
       "      <td>2</td>\n",
       "    </tr>\n",
       "  </tbody>\n",
       "</table>\n",
       "</div>"
      ],
      "text/plain": [
       "   ID                                               text  group\n",
       "0   0  'Hi,  I\\'ve noticed that if you only save a mo...      1\n",
       "1   1  '  Seems to be, barring evidence to the contra...      3\n",
       "2   2  '  >In article <1993Apr19.020359.26996@sq.sq.c...      2\n",
       "3   3  'I have a request for those who would like to ...      0\n",
       "4   4  'AW&ST  had a brief blurb on a Manned Lunar Ex...      2"
      ]
     },
     "execution_count": 17,
     "metadata": {},
     "output_type": "execute_result"
    }
   ],
   "source": [
    "dataOrigin = pd.read_csv(\"20 newsgroups/20newsgroups.csv\", on_bad_lines='skip', sep=';')\n",
    "dataOrigin = dataOrigin.dropna()\n",
    "dataOrigin = dataOrigin.drop_duplicates()\n",
    "dataOrigin.head()"
   ]
  },
  {
   "cell_type": "markdown",
   "metadata": {},
   "source": [
    "Preprocessing Methods:"
   ]
  },
  {
   "cell_type": "markdown",
   "metadata": {},
   "source": [
    "Text \"lematisieren\" (worked -> work)"
   ]
  },
  {
   "cell_type": "code",
   "execution_count": 18,
   "metadata": {},
   "outputs": [],
   "source": [
    "def lemma(text):\n",
    "    doc = nlp(text)\n",
    "    text = \" \".join(token.lemma_ for token in doc)\n",
    "    return text"
   ]
  },
  {
   "cell_type": "markdown",
   "metadata": {},
   "source": [
    "Stop Words entfernen"
   ]
  },
  {
   "cell_type": "code",
   "execution_count": 19,
   "metadata": {},
   "outputs": [],
   "source": [
    "def stop_words(text):\n",
    "    doc = nlp(text)\n",
    "    text = \" \".join([token.text for token in doc if not token.is_stop])\n",
    "    return text"
   ]
  },
  {
   "cell_type": "markdown",
   "metadata": {},
   "source": [
    "Punkte entfernen"
   ]
  },
  {
   "cell_type": "code",
   "execution_count": 20,
   "metadata": {},
   "outputs": [],
   "source": [
    "def punct(text):\n",
    "    doc = nlp(text)\n",
    "    text = ' '.join(token.text for token in doc if not token.is_punct)\n",
    "    return text"
   ]
  },
  {
   "cell_type": "markdown",
   "metadata": {},
   "source": [
    "Mehrer aufeinander folgende Leerzeichen, Tabs, Zeilenumbrüche entfernen:"
   ]
  },
  {
   "cell_type": "code",
   "execution_count": 21,
   "metadata": {},
   "outputs": [],
   "source": [
    "def space(text):\n",
    "    text = re.sub(r'\\s+', ' ', text).strip()\n",
    "    return text"
   ]
  },
  {
   "cell_type": "markdown",
   "metadata": {},
   "source": [
    "Bestimmte Sonderzeichen entfernen (@,#,$, ...) -> alle außer denen in der [] Klammer:"
   ]
  },
  {
   "cell_type": "code",
   "execution_count": 22,
   "metadata": {},
   "outputs": [],
   "source": [
    "def sonderzeichen(text):\n",
    "    text = re.sub(r'[^a-zA-Z0-9\\s.,!?;:()\"\"\\'-]', '', text)\n",
    "    return text"
   ]
  },
  {
   "cell_type": "markdown",
   "metadata": {},
   "source": [
    "Nur Kleinschreibung:"
   ]
  },
  {
   "cell_type": "code",
   "execution_count": 23,
   "metadata": {},
   "outputs": [],
   "source": [
    "def lower(text):\n",
    "    doc = nlp(text)\n",
    "    text = ' '.join(token.lower_ for token in doc)\n",
    "    return text"
   ]
  },
  {
   "cell_type": "markdown",
   "metadata": {},
   "source": [
    "Nur Nomen:"
   ]
  },
  {
   "cell_type": "code",
   "execution_count": 24,
   "metadata": {},
   "outputs": [],
   "source": [
    "def nouns(text):\n",
    "    doc = nlp(text)\n",
    "    text = ' '.join([token.text for token in doc if token.pos_ == \"NOUN\"])\n",
    "    return text"
   ]
  },
  {
   "cell_type": "markdown",
   "metadata": {},
   "source": [
    "Nur Verben:"
   ]
  },
  {
   "cell_type": "code",
   "execution_count": 25,
   "metadata": {},
   "outputs": [],
   "source": [
    "def verbs(text):\n",
    "    doc = nlp(text)\n",
    "    text = ' '.join([token.text for token in doc if token.pos_ == \"VERB\"])\n",
    "    return text"
   ]
  },
  {
   "cell_type": "markdown",
   "metadata": {},
   "source": [
    "Rechtschreibfehler entfernen"
   ]
  },
  {
   "cell_type": "code",
   "execution_count": 26,
   "metadata": {},
   "outputs": [],
   "source": [
    "spell = SpellChecker()\n",
    "def korrigiere_text(text):\n",
    "    doc = nlp(text)\n",
    "    worte = text.split()\n",
    "    korrigierte_worte = [spell.correction(wort) if spell.correction(wort) is not None else wort for wort in worte]\n",
    "    text = ' '.join(korrigierte_worte)\n",
    "    return text"
   ]
  },
  {
   "cell_type": "markdown",
   "metadata": {},
   "source": [
    "Text Normalisieren"
   ]
  },
  {
   "cell_type": "code",
   "execution_count": 27,
   "metadata": {},
   "outputs": [],
   "source": [
    "def normalisieren(text):\n",
    "    return unicodedata.normalize('NFC', text)"
   ]
  },
  {
   "cell_type": "markdown",
   "metadata": {},
   "source": [
    "Kurze Wörter entfernen"
   ]
  },
  {
   "cell_type": "code",
   "execution_count": 28,
   "metadata": {},
   "outputs": [],
   "source": [
    "def entferne_kurze_woerter(text, min_laenge=4):\n",
    "    woerter = text.split()\n",
    "    gefilterte_woerter = [wort for wort in woerter if len(wort) >= min_laenge]\n",
    "    text =  ' '.join(gefilterte_woerter)\n",
    "    return text"
   ]
  },
  {
   "cell_type": "markdown",
   "metadata": {},
   "source": [
    "URLs und Mails entfernen"
   ]
  },
  {
   "cell_type": "code",
   "execution_count": null,
   "metadata": {},
   "outputs": [],
   "source": [
    "def ohneUrlMail(text):\n",
    "\n",
    "    url_pattern = r'http[s]?://(?:[a-zA-Z]|[0-9]|[$-_@.&+]|[!*\\\\(\\\\),]|(?:%[0-9a-fA-F][0-9a-fA-F]))+'\n",
    "    email_pattern = r'\\b[A-Za-z0-9._%+-]+@[A-Za-z0-9.-]+\\.[A-Z|a-z]{2,}\\b'\n",
    "    \n",
    "    text = re.sub(url_pattern, '', text)\n",
    "    text = re.sub(email_pattern, '', text)\n",
    "    \n",
    "    return text"
   ]
  },
  {
   "cell_type": "markdown",
   "metadata": {},
   "source": [
    "Verschiedene Methoden kombinieren"
   ]
  },
  {
   "cell_type": "code",
   "execution_count": 39,
   "metadata": {},
   "outputs": [],
   "source": [
    "def kombi (text, min_laenge=3):\n",
    "        text = ohneUrlMail(text)\n",
    "        text = stop_words(text)\n",
    "        text = entferne_kurze_woerter(text,min_laenge)\n",
    "        text = sonderzeichen(text)\n",
    "        text = punct(text)\n",
    "        text = space(text)\n",
    "        text = lower(text)\n",
    "        text = normalisieren(text)\n",
    "        text = lemma(text)\n",
    "\n",
    "        return text"
   ]
  },
  {
   "cell_type": "markdown",
   "metadata": {},
   "source": [
    "Usage:"
   ]
  },
  {
   "cell_type": "code",
   "execution_count": null,
   "metadata": {},
   "outputs": [],
   "source": [
    "dataLemma = dataOrigin\n",
    "dataLemma['text'] = dataLemma['text'].astype(str).apply(lemma)\n",
    "dataLemma.to_csv(\"preprocessed/dataLemma.csv\", index=False, sep=\";\")\n",
    "dataLemmaTest = pd.read_csv(\"preprocessed/dataLemma.csv\", on_bad_lines='skip', sep=';')\n",
    "dataLemmaTest.head()"
   ]
  },
  {
   "cell_type": "code",
   "execution_count": null,
   "metadata": {},
   "outputs": [
    {
     "data": {
      "text/html": [
       "<div>\n",
       "<style scoped>\n",
       "    .dataframe tbody tr th:only-of-type {\n",
       "        vertical-align: middle;\n",
       "    }\n",
       "\n",
       "    .dataframe tbody tr th {\n",
       "        vertical-align: top;\n",
       "    }\n",
       "\n",
       "    .dataframe thead th {\n",
       "        text-align: right;\n",
       "    }\n",
       "</style>\n",
       "<table border=\"1\" class=\"dataframe\">\n",
       "  <thead>\n",
       "    <tr style=\"text-align: right;\">\n",
       "      <th></th>\n",
       "      <th>ID</th>\n",
       "      <th>text</th>\n",
       "      <th>group</th>\n",
       "    </tr>\n",
       "  </thead>\n",
       "  <tbody>\n",
       "    <tr>\n",
       "      <th>0</th>\n",
       "      <td>0</td>\n",
       "      <td>' hi , i\\'ve notice that if you only save a mo...</td>\n",
       "      <td>1</td>\n",
       "    </tr>\n",
       "    <tr>\n",
       "      <th>1</th>\n",
       "      <td>1</td>\n",
       "      <td>' seem to be , bar evidence to the contrary , ...</td>\n",
       "      <td>3</td>\n",
       "    </tr>\n",
       "    <tr>\n",
       "      <th>2</th>\n",
       "      <td>2</td>\n",
       "      <td>' &gt; in article &lt; 1993apr19.020359.26996@sq.sq....</td>\n",
       "      <td>2</td>\n",
       "    </tr>\n",
       "    <tr>\n",
       "      <th>3</th>\n",
       "      <td>3</td>\n",
       "      <td>' I have a request for those who would like to...</td>\n",
       "      <td>0</td>\n",
       "    </tr>\n",
       "    <tr>\n",
       "      <th>4</th>\n",
       "      <td>4</td>\n",
       "      <td>' AW&amp;ST have a brief blurb on a Manned Lunar E...</td>\n",
       "      <td>2</td>\n",
       "    </tr>\n",
       "  </tbody>\n",
       "</table>\n",
       "</div>"
      ],
      "text/plain": [
       "   ID                                               text  group\n",
       "0   0  ' hi , i\\'ve notice that if you only save a mo...      1\n",
       "1   1  ' seem to be , bar evidence to the contrary , ...      3\n",
       "2   2  ' > in article < 1993apr19.020359.26996@sq.sq....      2\n",
       "3   3  ' I have a request for those who would like to...      0\n",
       "4   4  ' AW&ST have a brief blurb on a Manned Lunar E...      2"
      ]
     },
     "execution_count": 51,
     "metadata": {},
     "output_type": "execute_result"
    }
   ],
   "source": [
    "dataSpace = dataOrigin\n",
    "dataSpace['text'] = dataSpace['text'].astype(str).apply(space)\n",
    "dataSpace.to_csv(\"preprocessed/dataSpace.csv\", index=False, sep=\";\")\n",
    "dataSpaceTest = pd.read_csv(\"preprocessed/dataSpace.csv\", on_bad_lines='skip', sep=';')\n",
    "dataSpaceTest.head()"
   ]
  },
  {
   "cell_type": "code",
   "execution_count": null,
   "metadata": {},
   "outputs": [
    {
     "data": {
      "text/html": [
       "<div>\n",
       "<style scoped>\n",
       "    .dataframe tbody tr th:only-of-type {\n",
       "        vertical-align: middle;\n",
       "    }\n",
       "\n",
       "    .dataframe tbody tr th {\n",
       "        vertical-align: top;\n",
       "    }\n",
       "\n",
       "    .dataframe thead th {\n",
       "        text-align: right;\n",
       "    }\n",
       "</style>\n",
       "<table border=\"1\" class=\"dataframe\">\n",
       "  <thead>\n",
       "    <tr style=\"text-align: right;\">\n",
       "      <th></th>\n",
       "      <th>ID</th>\n",
       "      <th>text</th>\n",
       "      <th>group</th>\n",
       "    </tr>\n",
       "  </thead>\n",
       "  <tbody>\n",
       "    <tr>\n",
       "      <th>0</th>\n",
       "      <td>0</td>\n",
       "      <td>' hi , i've notice that if you only save a mod...</td>\n",
       "      <td>1</td>\n",
       "    </tr>\n",
       "    <tr>\n",
       "      <th>1</th>\n",
       "      <td>1</td>\n",
       "      <td>' seem to be , bar evidence to the contrary , ...</td>\n",
       "      <td>3</td>\n",
       "    </tr>\n",
       "    <tr>\n",
       "      <th>2</th>\n",
       "      <td>2</td>\n",
       "      <td>'  in article  1993apr19.020359.26996sq.sq.com...</td>\n",
       "      <td>2</td>\n",
       "    </tr>\n",
       "    <tr>\n",
       "      <th>3</th>\n",
       "      <td>3</td>\n",
       "      <td>' I have a request for those who would like to...</td>\n",
       "      <td>0</td>\n",
       "    </tr>\n",
       "    <tr>\n",
       "      <th>4</th>\n",
       "      <td>4</td>\n",
       "      <td>' AWST have a brief blurb on a Manned Lunar Ex...</td>\n",
       "      <td>2</td>\n",
       "    </tr>\n",
       "  </tbody>\n",
       "</table>\n",
       "</div>"
      ],
      "text/plain": [
       "   ID                                               text  group\n",
       "0   0  ' hi , i've notice that if you only save a mod...      1\n",
       "1   1  ' seem to be , bar evidence to the contrary , ...      3\n",
       "2   2  '  in article  1993apr19.020359.26996sq.sq.com...      2\n",
       "3   3  ' I have a request for those who would like to...      0\n",
       "4   4  ' AWST have a brief blurb on a Manned Lunar Ex...      2"
      ]
     },
     "execution_count": 52,
     "metadata": {},
     "output_type": "execute_result"
    }
   ],
   "source": [
    "dataSonderzeichen = dataOrigin\n",
    "dataSonderzeichen['text'] = dataSonderzeichen['text'].astype(str).apply(sonderzeichen)\n",
    "dataSonderzeichen.to_csv(\"preprocessed/dataSonderzeichen.csv\", index=False, sep=\";\")\n",
    "dataSonderzeichenTest = pd.read_csv(\"preprocessed/dataSonderzeichen.csv\", on_bad_lines='skip', sep=';')\n",
    "dataSonderzeichenTest.head()"
   ]
  },
  {
   "cell_type": "code",
   "execution_count": null,
   "metadata": {},
   "outputs": [
    {
     "data": {
      "text/html": [
       "<div>\n",
       "<style scoped>\n",
       "    .dataframe tbody tr th:only-of-type {\n",
       "        vertical-align: middle;\n",
       "    }\n",
       "\n",
       "    .dataframe tbody tr th {\n",
       "        vertical-align: top;\n",
       "    }\n",
       "\n",
       "    .dataframe thead th {\n",
       "        text-align: right;\n",
       "    }\n",
       "</style>\n",
       "<table border=\"1\" class=\"dataframe\">\n",
       "  <thead>\n",
       "    <tr style=\"text-align: right;\">\n",
       "      <th></th>\n",
       "      <th>ID</th>\n",
       "      <th>text</th>\n",
       "      <th>group</th>\n",
       "    </tr>\n",
       "  </thead>\n",
       "  <tbody>\n",
       "    <tr>\n",
       "      <th>0</th>\n",
       "      <td>0</td>\n",
       "      <td>hi i 've notice that if you only save a model ...</td>\n",
       "      <td>1</td>\n",
       "    </tr>\n",
       "    <tr>\n",
       "      <th>1</th>\n",
       "      <td>1</td>\n",
       "      <td>seem to be bar evidence to the contrary that K...</td>\n",
       "      <td>3</td>\n",
       "    </tr>\n",
       "    <tr>\n",
       "      <th>2</th>\n",
       "      <td>2</td>\n",
       "      <td>in article   1993apr19.020359.26996sq.sq.com...</td>\n",
       "      <td>2</td>\n",
       "    </tr>\n",
       "    <tr>\n",
       "      <th>3</th>\n",
       "      <td>3</td>\n",
       "      <td>I have a request for those who would like to s...</td>\n",
       "      <td>0</td>\n",
       "    </tr>\n",
       "    <tr>\n",
       "      <th>4</th>\n",
       "      <td>4</td>\n",
       "      <td>AWST have a brief blurb on a Manned Lunar Expl...</td>\n",
       "      <td>2</td>\n",
       "    </tr>\n",
       "  </tbody>\n",
       "</table>\n",
       "</div>"
      ],
      "text/plain": [
       "   ID                                               text  group\n",
       "0   0  hi i 've notice that if you only save a model ...      1\n",
       "1   1  seem to be bar evidence to the contrary that K...      3\n",
       "2   2    in article   1993apr19.020359.26996sq.sq.com...      2\n",
       "3   3  I have a request for those who would like to s...      0\n",
       "4   4  AWST have a brief blurb on a Manned Lunar Expl...      2"
      ]
     },
     "execution_count": 53,
     "metadata": {},
     "output_type": "execute_result"
    }
   ],
   "source": [
    "dataPunct = dataOrigin\n",
    "dataPunct['text'] = dataPunct['text'].astype(str).apply(punct)\n",
    "dataPunct.to_csv(\"preprocessed/dataPunct.csv\", index=False, sep=\";\")\n",
    "dataPunctTest = pd.read_csv(\"preprocessed/dataPunct.csv\", on_bad_lines='skip', sep=';')\n",
    "dataPunctTest.head()"
   ]
  },
  {
   "cell_type": "code",
   "execution_count": null,
   "metadata": {},
   "outputs": [
    {
     "data": {
      "text/html": [
       "<div>\n",
       "<style scoped>\n",
       "    .dataframe tbody tr th:only-of-type {\n",
       "        vertical-align: middle;\n",
       "    }\n",
       "\n",
       "    .dataframe tbody tr th {\n",
       "        vertical-align: top;\n",
       "    }\n",
       "\n",
       "    .dataframe thead th {\n",
       "        text-align: right;\n",
       "    }\n",
       "</style>\n",
       "<table border=\"1\" class=\"dataframe\">\n",
       "  <thead>\n",
       "    <tr style=\"text-align: right;\">\n",
       "      <th></th>\n",
       "      <th>ID</th>\n",
       "      <th>text</th>\n",
       "      <th>group</th>\n",
       "    </tr>\n",
       "  </thead>\n",
       "  <tbody>\n",
       "    <tr>\n",
       "      <th>0</th>\n",
       "      <td>0</td>\n",
       "      <td>hi ' ve notice save model mapping plane positi...</td>\n",
       "      <td>1</td>\n",
       "    </tr>\n",
       "    <tr>\n",
       "      <th>1</th>\n",
       "      <td>1</td>\n",
       "      <td>bar evidence contrary Koresh simply derange fa...</td>\n",
       "      <td>3</td>\n",
       "    </tr>\n",
       "    <tr>\n",
       "      <th>2</th>\n",
       "      <td>2</td>\n",
       "      <td>article    1993apr19.020359.26996sq.sq.com ...</td>\n",
       "      <td>2</td>\n",
       "    </tr>\n",
       "    <tr>\n",
       "      <th>3</th>\n",
       "      <td>3</td>\n",
       "      <td>request like Charley Wingate respond Charley C...</td>\n",
       "      <td>0</td>\n",
       "    </tr>\n",
       "    <tr>\n",
       "      <th>4</th>\n",
       "      <td>4</td>\n",
       "      <td>AWST brief blurb Manned Lunar Exploration conf...</td>\n",
       "      <td>2</td>\n",
       "    </tr>\n",
       "  </tbody>\n",
       "</table>\n",
       "</div>"
      ],
      "text/plain": [
       "   ID                                               text  group\n",
       "0   0  hi ' ve notice save model mapping plane positi...      1\n",
       "1   1  bar evidence contrary Koresh simply derange fa...      3\n",
       "2   2     article    1993apr19.020359.26996sq.sq.com ...      2\n",
       "3   3  request like Charley Wingate respond Charley C...      0\n",
       "4   4  AWST brief blurb Manned Lunar Exploration conf...      2"
      ]
     },
     "execution_count": 54,
     "metadata": {},
     "output_type": "execute_result"
    }
   ],
   "source": [
    "dataStop = dataOrigin\n",
    "dataStop['text'] = dataStop['text'].astype(str).apply(stop_words)\n",
    "dataStop.to_csv(\"preprocessed/dataStop.csv\", index=False, sep=\";\")\n",
    "dataStopTest = pd.read_csv(\"preprocessed/dataStop.csv\", on_bad_lines='skip', sep=';')\n",
    "dataStopTest.head()"
   ]
  },
  {
   "cell_type": "code",
   "execution_count": null,
   "metadata": {},
   "outputs": [
    {
     "data": {
      "text/html": [
       "<div>\n",
       "<style scoped>\n",
       "    .dataframe tbody tr th:only-of-type {\n",
       "        vertical-align: middle;\n",
       "    }\n",
       "\n",
       "    .dataframe tbody tr th {\n",
       "        vertical-align: top;\n",
       "    }\n",
       "\n",
       "    .dataframe thead th {\n",
       "        text-align: right;\n",
       "    }\n",
       "</style>\n",
       "<table border=\"1\" class=\"dataframe\">\n",
       "  <thead>\n",
       "    <tr style=\"text-align: right;\">\n",
       "      <th></th>\n",
       "      <th>ID</th>\n",
       "      <th>text</th>\n",
       "      <th>group</th>\n",
       "    </tr>\n",
       "  </thead>\n",
       "  <tbody>\n",
       "    <tr>\n",
       "      <th>0</th>\n",
       "      <td>0</td>\n",
       "      <td>hi ' ve notice save model mapping plane positi...</td>\n",
       "      <td>1</td>\n",
       "    </tr>\n",
       "    <tr>\n",
       "      <th>1</th>\n",
       "      <td>1</td>\n",
       "      <td>bar evidence contrary koresh simply derange fa...</td>\n",
       "      <td>3</td>\n",
       "    </tr>\n",
       "    <tr>\n",
       "      <th>2</th>\n",
       "      <td>2</td>\n",
       "      <td>article     1993apr19.020359.26996sq.sq.co...</td>\n",
       "      <td>2</td>\n",
       "    </tr>\n",
       "    <tr>\n",
       "      <th>3</th>\n",
       "      <td>3</td>\n",
       "      <td>request like charley wingate respond charley c...</td>\n",
       "      <td>0</td>\n",
       "    </tr>\n",
       "    <tr>\n",
       "      <th>4</th>\n",
       "      <td>4</td>\n",
       "      <td>awst brief blurb manned lunar exploration conf...</td>\n",
       "      <td>2</td>\n",
       "    </tr>\n",
       "  </tbody>\n",
       "</table>\n",
       "</div>"
      ],
      "text/plain": [
       "   ID                                               text  group\n",
       "0   0  hi ' ve notice save model mapping plane positi...      1\n",
       "1   1  bar evidence contrary koresh simply derange fa...      3\n",
       "2   2      article     1993apr19.020359.26996sq.sq.co...      2\n",
       "3   3  request like charley wingate respond charley c...      0\n",
       "4   4  awst brief blurb manned lunar exploration conf...      2"
      ]
     },
     "execution_count": 55,
     "metadata": {},
     "output_type": "execute_result"
    }
   ],
   "source": [
    "dataLower = dataOrigin\n",
    "dataLower['text'] = dataLower['text'].astype(str).apply(lower)\n",
    "dataLower.to_csv(\"preprocessed/dataLower.csv\", index=False, sep=\";\")\n",
    "dataLowerTest = pd.read_csv(\"preprocessed/dataLower.csv\", on_bad_lines='skip', sep=';')\n",
    "dataLowerTest.head()"
   ]
  },
  {
   "cell_type": "code",
   "execution_count": null,
   "metadata": {},
   "outputs": [
    {
     "data": {
      "text/html": [
       "<div>\n",
       "<style scoped>\n",
       "    .dataframe tbody tr th:only-of-type {\n",
       "        vertical-align: middle;\n",
       "    }\n",
       "\n",
       "    .dataframe tbody tr th {\n",
       "        vertical-align: top;\n",
       "    }\n",
       "\n",
       "    .dataframe thead th {\n",
       "        text-align: right;\n",
       "    }\n",
       "</style>\n",
       "<table border=\"1\" class=\"dataframe\">\n",
       "  <thead>\n",
       "    <tr style=\"text-align: right;\">\n",
       "      <th></th>\n",
       "      <th>ID</th>\n",
       "      <th>text</th>\n",
       "      <th>group</th>\n",
       "    </tr>\n",
       "  </thead>\n",
       "  <tbody>\n",
       "    <tr>\n",
       "      <th>0</th>\n",
       "      <td>0</td>\n",
       "      <td>notice model mapping plane position file reloa...</td>\n",
       "      <td>1</td>\n",
       "    </tr>\n",
       "    <tr>\n",
       "      <th>1</th>\n",
       "      <td>1</td>\n",
       "      <td>bar evidence koresh folk child satisfy fruitca...</td>\n",
       "      <td>3</td>\n",
       "    </tr>\n",
       "    <tr>\n",
       "      <th>2</th>\n",
       "      <td>2</td>\n",
       "      <td>article figure perijoves talk language periaps...</td>\n",
       "      <td>2</td>\n",
       "    </tr>\n",
       "    <tr>\n",
       "      <th>3</th>\n",
       "      <td>3</td>\n",
       "      <td>request mail article ingore challenges dozen a...</td>\n",
       "      <td>0</td>\n",
       "    </tr>\n",
       "    <tr>\n",
       "      <th>4</th>\n",
       "      <td>4</td>\n",
       "      <td>blurb exploration confernce 7th know</td>\n",
       "      <td>2</td>\n",
       "    </tr>\n",
       "  </tbody>\n",
       "</table>\n",
       "</div>"
      ],
      "text/plain": [
       "   ID                                               text  group\n",
       "0   0  notice model mapping plane position file reloa...      1\n",
       "1   1  bar evidence koresh folk child satisfy fruitca...      3\n",
       "2   2  article figure perijoves talk language periaps...      2\n",
       "3   3  request mail article ingore challenges dozen a...      0\n",
       "4   4               blurb exploration confernce 7th know      2"
      ]
     },
     "execution_count": 56,
     "metadata": {},
     "output_type": "execute_result"
    }
   ],
   "source": [
    "dataNoun = dataOrigin\n",
    "dataNoun['text'] = dataNoun['text'].astype(str).apply(nouns)\n",
    "dataNoun.to_csv(\"preprocessed/dataNoun.csv\", index=False, sep=\";\")\n",
    "dataNounTest = pd.read_csv(\"preprocessed/dataNoun.csv\", on_bad_lines='skip', sep=';')\n",
    "dataNounTest.head()"
   ]
  },
  {
   "cell_type": "code",
   "execution_count": null,
   "metadata": {},
   "outputs": [
    {
     "data": {
      "text/html": [
       "<div>\n",
       "<style scoped>\n",
       "    .dataframe tbody tr th:only-of-type {\n",
       "        vertical-align: middle;\n",
       "    }\n",
       "\n",
       "    .dataframe tbody tr th {\n",
       "        vertical-align: top;\n",
       "    }\n",
       "\n",
       "    .dataframe thead th {\n",
       "        text-align: right;\n",
       "    }\n",
       "</style>\n",
       "<table border=\"1\" class=\"dataframe\">\n",
       "  <thead>\n",
       "    <tr style=\"text-align: right;\">\n",
       "      <th></th>\n",
       "      <th>ID</th>\n",
       "      <th>text</th>\n",
       "      <th>group</th>\n",
       "    </tr>\n",
       "  </thead>\n",
       "  <tbody>\n",
       "    <tr>\n",
       "      <th>0</th>\n",
       "      <td>0</td>\n",
       "      <td>noticed save positioned reload restarting give...</td>\n",
       "      <td>1</td>\n",
       "    </tr>\n",
       "    <tr>\n",
       "      <th>1</th>\n",
       "      <td>1</td>\n",
       "      <td>Seems barring deranged thought take satisfy de...</td>\n",
       "      <td>3</td>\n",
       "    </tr>\n",
       "    <tr>\n",
       "      <th>2</th>\n",
       "      <td>2</td>\n",
       "      <td>MB seems used talking say</td>\n",
       "      <td>2</td>\n",
       "    </tr>\n",
       "    <tr>\n",
       "      <th>3</th>\n",
       "      <td>3</td>\n",
       "      <td>have like see judging appear intends continue ...</td>\n",
       "      <td>0</td>\n",
       "    </tr>\n",
       "    <tr>\n",
       "      <th>4</th>\n",
       "      <td>4</td>\n",
       "      <td>had know attend want go</td>\n",
       "      <td>2</td>\n",
       "    </tr>\n",
       "  </tbody>\n",
       "</table>\n",
       "</div>"
      ],
      "text/plain": [
       "   ID                                               text  group\n",
       "0   0  noticed save positioned reload restarting give...      1\n",
       "1   1  Seems barring deranged thought take satisfy de...      3\n",
       "2   2                          MB seems used talking say      2\n",
       "3   3  have like see judging appear intends continue ...      0\n",
       "4   4                            had know attend want go      2"
      ]
     },
     "execution_count": 7,
     "metadata": {},
     "output_type": "execute_result"
    }
   ],
   "source": [
    "dataVerb = dataOrigin\n",
    "dataVerb['text'] = dataVerb['text'].astype(str).apply(verbs)\n",
    "dataVerb.to_csv(\"preprocessed/dataVerb.csv\", index=False, sep=\";\")\n",
    "dataVerbTest = pd.read_csv(\"preprocessed/dataVerb.csv\", on_bad_lines='skip', sep=';')\n",
    "dataVerbTest.head()"
   ]
  },
  {
   "cell_type": "markdown",
   "metadata": {},
   "source": [
    "Nicht neu ausführen, dauer ewig"
   ]
  },
  {
   "cell_type": "code",
   "execution_count": null,
   "metadata": {},
   "outputs": [],
   "source": [
    "# dauert zu lange, evtl. anders implementieren\n",
    "dataCorrected = dataOrigin\n",
    "dataCorrected['text'] = dataCorrected['text'].astype(str).apply(korrigiere_text)\n",
    "dataCorrected.to_csv(\"preprocessed/dataRechtschreibung.csv\", index=False, sep=\";\")\n",
    "dataCorrectedTest = pd.read_csv(\"preprocessed/dataRechtschreibung.csv\", on_bad_lines='skip', sep=';')\n",
    "dataCorrectedTest.head()"
   ]
  },
  {
   "cell_type": "code",
   "execution_count": null,
   "metadata": {},
   "outputs": [
    {
     "data": {
      "text/html": [
       "<div>\n",
       "<style scoped>\n",
       "    .dataframe tbody tr th:only-of-type {\n",
       "        vertical-align: middle;\n",
       "    }\n",
       "\n",
       "    .dataframe tbody tr th {\n",
       "        vertical-align: top;\n",
       "    }\n",
       "\n",
       "    .dataframe thead th {\n",
       "        text-align: right;\n",
       "    }\n",
       "</style>\n",
       "<table border=\"1\" class=\"dataframe\">\n",
       "  <thead>\n",
       "    <tr style=\"text-align: right;\">\n",
       "      <th></th>\n",
       "      <th>ID</th>\n",
       "      <th>text</th>\n",
       "      <th>group</th>\n",
       "    </tr>\n",
       "  </thead>\n",
       "  <tbody>\n",
       "    <tr>\n",
       "      <th>0</th>\n",
       "      <td>0</td>\n",
       "      <td>'Hi,  I\\'ve noticed that if you only save a mo...</td>\n",
       "      <td>1</td>\n",
       "    </tr>\n",
       "    <tr>\n",
       "      <th>1</th>\n",
       "      <td>1</td>\n",
       "      <td>'  Seems to be, barring evidence to the contra...</td>\n",
       "      <td>3</td>\n",
       "    </tr>\n",
       "    <tr>\n",
       "      <th>2</th>\n",
       "      <td>2</td>\n",
       "      <td>'  &gt;In article &lt;1993Apr19.020359.26996@sq.sq.c...</td>\n",
       "      <td>2</td>\n",
       "    </tr>\n",
       "    <tr>\n",
       "      <th>3</th>\n",
       "      <td>3</td>\n",
       "      <td>'I have a request for those who would like to ...</td>\n",
       "      <td>0</td>\n",
       "    </tr>\n",
       "    <tr>\n",
       "      <th>4</th>\n",
       "      <td>4</td>\n",
       "      <td>'AW&amp;ST  had a brief blurb on a Manned Lunar Ex...</td>\n",
       "      <td>2</td>\n",
       "    </tr>\n",
       "  </tbody>\n",
       "</table>\n",
       "</div>"
      ],
      "text/plain": [
       "   ID                                               text  group\n",
       "0   0  'Hi,  I\\'ve noticed that if you only save a mo...      1\n",
       "1   1  '  Seems to be, barring evidence to the contra...      3\n",
       "2   2  '  >In article <1993Apr19.020359.26996@sq.sq.c...      2\n",
       "3   3  'I have a request for those who would like to ...      0\n",
       "4   4  'AW&ST  had a brief blurb on a Manned Lunar Ex...      2"
      ]
     },
     "execution_count": 24,
     "metadata": {},
     "output_type": "execute_result"
    }
   ],
   "source": [
    "dataNormal = dataOrigin\n",
    "dataNormal['text'] = dataNormal['text'].astype(str).apply(normalisieren)\n",
    "dataNormal.to_csv(\"preprocessed/dataNormal.csv\", index=False, sep=\";\")\n",
    "dataNormalTest = pd.read_csv(\"preprocessed/dataNormal.csv\", on_bad_lines='skip', sep=';')\n",
    "dataNormalTest.head()"
   ]
  },
  {
   "cell_type": "code",
   "execution_count": null,
   "metadata": {},
   "outputs": [
    {
     "data": {
      "text/html": [
       "<div>\n",
       "<style scoped>\n",
       "    .dataframe tbody tr th:only-of-type {\n",
       "        vertical-align: middle;\n",
       "    }\n",
       "\n",
       "    .dataframe tbody tr th {\n",
       "        vertical-align: top;\n",
       "    }\n",
       "\n",
       "    .dataframe thead th {\n",
       "        text-align: right;\n",
       "    }\n",
       "</style>\n",
       "<table border=\"1\" class=\"dataframe\">\n",
       "  <thead>\n",
       "    <tr style=\"text-align: right;\">\n",
       "      <th></th>\n",
       "      <th>ID</th>\n",
       "      <th>text</th>\n",
       "      <th>group</th>\n",
       "    </tr>\n",
       "  </thead>\n",
       "  <tbody>\n",
       "    <tr>\n",
       "      <th>0</th>\n",
       "      <td>0</td>\n",
       "      <td>'Hi, I\\'ve noticed that only save model (with ...</td>\n",
       "      <td>1</td>\n",
       "    </tr>\n",
       "    <tr>\n",
       "      <th>1</th>\n",
       "      <td>1</td>\n",
       "      <td>Seems barring evidence contrary, that Koresh s...</td>\n",
       "      <td>3</td>\n",
       "    </tr>\n",
       "    <tr>\n",
       "      <th>2</th>\n",
       "      <td>2</td>\n",
       "      <td>article &lt;1993Apr19.020359.26996@sq.sq.com&gt;, ms...</td>\n",
       "      <td>2</td>\n",
       "    </tr>\n",
       "    <tr>\n",
       "      <th>3</th>\n",
       "      <td>3</td>\n",
       "      <td>have request those would like Charley Wingate ...</td>\n",
       "      <td>0</td>\n",
       "    </tr>\n",
       "    <tr>\n",
       "      <th>4</th>\n",
       "      <td>4</td>\n",
       "      <td>'AW&amp;ST brief blurb Manned Lunar Exploration co...</td>\n",
       "      <td>2</td>\n",
       "    </tr>\n",
       "  </tbody>\n",
       "</table>\n",
       "</div>"
      ],
      "text/plain": [
       "   ID                                               text  group\n",
       "0   0  'Hi, I\\'ve noticed that only save model (with ...      1\n",
       "1   1  Seems barring evidence contrary, that Koresh s...      3\n",
       "2   2  article <1993Apr19.020359.26996@sq.sq.com>, ms...      2\n",
       "3   3  have request those would like Charley Wingate ...      0\n",
       "4   4  'AW&ST brief blurb Manned Lunar Exploration co...      2"
      ]
     },
     "execution_count": 13,
     "metadata": {},
     "output_type": "execute_result"
    }
   ],
   "source": [
    "dataKurze = dataOrigin\n",
    "dataKurze['text'] = dataKurze['text'].astype(str).apply(entferne_kurze_woerter)\n",
    "dataKurze.to_csv(\"preprocessed/dataKurze.csv\", index=False, sep=\";\")\n",
    "dataKurzeTest = pd.read_csv(\"preprocessed/dataKurze.csv\", on_bad_lines='skip', sep=';')\n",
    "dataKurzeTest.head()"
   ]
  },
  {
   "cell_type": "code",
   "execution_count": null,
   "metadata": {},
   "outputs": [
    {
     "data": {
      "text/html": [
       "<div>\n",
       "<style scoped>\n",
       "    .dataframe tbody tr th:only-of-type {\n",
       "        vertical-align: middle;\n",
       "    }\n",
       "\n",
       "    .dataframe tbody tr th {\n",
       "        vertical-align: top;\n",
       "    }\n",
       "\n",
       "    .dataframe thead th {\n",
       "        text-align: right;\n",
       "    }\n",
       "</style>\n",
       "<table border=\"1\" class=\"dataframe\">\n",
       "  <thead>\n",
       "    <tr style=\"text-align: right;\">\n",
       "      <th></th>\n",
       "      <th>ID</th>\n",
       "      <th>text</th>\n",
       "      <th>group</th>\n",
       "    </tr>\n",
       "  </thead>\n",
       "  <tbody>\n",
       "    <tr>\n",
       "      <th>0</th>\n",
       "      <td>0</td>\n",
       "      <td>'Hi, I\\'ve noticed that only save model (with ...</td>\n",
       "      <td>1</td>\n",
       "    </tr>\n",
       "    <tr>\n",
       "      <th>1</th>\n",
       "      <td>1</td>\n",
       "      <td>Seems barring evidence contrary, that Koresh s...</td>\n",
       "      <td>3</td>\n",
       "    </tr>\n",
       "    <tr>\n",
       "      <th>2</th>\n",
       "      <td>2</td>\n",
       "      <td>article &lt;&gt;,  (Mark Brader) 1970 figure seems u...</td>\n",
       "      <td>2</td>\n",
       "    </tr>\n",
       "    <tr>\n",
       "      <th>3</th>\n",
       "      <td>3</td>\n",
       "      <td>have request those would like Charley Wingate ...</td>\n",
       "      <td>0</td>\n",
       "    </tr>\n",
       "    <tr>\n",
       "      <th>4</th>\n",
       "      <td>4</td>\n",
       "      <td>'AW&amp;ST brief blurb Manned Lunar Exploration co...</td>\n",
       "      <td>2</td>\n",
       "    </tr>\n",
       "  </tbody>\n",
       "</table>\n",
       "</div>"
      ],
      "text/plain": [
       "   ID                                               text  group\n",
       "0   0  'Hi, I\\'ve noticed that only save model (with ...      1\n",
       "1   1  Seems barring evidence contrary, that Koresh s...      3\n",
       "2   2  article <>,  (Mark Brader) 1970 figure seems u...      2\n",
       "3   3  have request those would like Charley Wingate ...      0\n",
       "4   4  'AW&ST brief blurb Manned Lunar Exploration co...      2"
      ]
     },
     "execution_count": 14,
     "metadata": {},
     "output_type": "execute_result"
    }
   ],
   "source": [
    "dataUrlMail = dataOrigin\n",
    "dataUrlMail['text'] = dataUrlMail['text'].astype(str).apply(ohneUrlMail)\n",
    "dataUrlMail.to_csv(\"preprocessed/dataUrlMail.csv\", index=False, sep=\";\")\n",
    "dataUrlMailTest = pd.read_csv(\"preprocessed/dataUrlMail.csv\", on_bad_lines='skip', sep=';')\n",
    "dataUrlMailTest.head()"
   ]
  },
  {
   "cell_type": "code",
   "execution_count": null,
   "metadata": {},
   "outputs": [],
   "source": [
    "dataKombi = dataOrigin\n",
    "dataKombi['text'] = dataKombi['text'].astype(str).apply(kombi)\n",
    "dataKombi.to_csv(\"preprocessed/dataKombi.csv\", index=False, sep=\";\")\n",
    "dataKombiTest = pd.read_csv(\"preprocessed/dataKombi.csv\", on_bad_lines='skip', sep=';')\n",
    "dataKombiTest.head()"
   ]
  }
 ],
 "metadata": {
  "kernelspec": {
   "display_name": ".venv",
   "language": "python",
   "name": "python3"
  },
  "language_info": {
   "codemirror_mode": {
    "name": "ipython",
    "version": 3
   },
   "file_extension": ".py",
   "mimetype": "text/x-python",
   "name": "python",
   "nbconvert_exporter": "python",
   "pygments_lexer": "ipython3",
   "version": "3.11.9"
  }
 },
 "nbformat": 4,
 "nbformat_minor": 2
}
